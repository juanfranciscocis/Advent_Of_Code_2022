{
 "cells": [
  {
   "cell_type": "code",
   "execution_count": 290,
   "outputs": [
    {
     "data": {
      "text/plain": "['FqdWDFppHWhmwwzdjvjTRTznjdMv',\n 'ZBJrDVfQcfSRMLjZnjjM',\n 'cBffPfbrbQcgQJggfVQJBPbCwlPtWFDWHFHhpmmGlGmlqmDG',\n 'PNbMLgmPgRDgRtMPDdmdbmdmQrTBVCZnVnpCnNHHVZBNVZHc',\n 'ljvvqhlvshhnrcpBZqpTcr',\n 'zGhWzFTJvsFttddWbMRdmP',\n 'hhGdDhfdDhmdnHwtzzRtdzbzQQQg',\n 'WTTZJLsvLRJCcWJWScWWLtzjwBzBttbBzSwVQjQBtt',\n 'vLJcLLTRsvsTZPqHGhFHGhhPhfqD',\n 'dJszLvzvCZZsJmszCrrdFmpppMpDMQPMgmDcDgSS',\n 'nRjRbnnjlNhblnjtVtQlWttMFPfMfPgDMpBgSBPgBS',\n 'GWVQTVTnTNhjblQNRsdJLLdTCdzdZLrdrJ',\n 'RnLJBfmJfmNBHlQvvbdQ',\n 'grhgrtqgjJhhggNHqvwWqvbNlbHw',\n 'GVTTsFFjJjVVFVGCFTJDDjhFcZmRMZfnZcncSpMSGcRPZpLp',\n 'bwSNRNSRzSWnPnJRldMBMQmMlsCcPPCP',\n 'FGpDqTTVFFprpjLVQMMGtMclcmHGtBdc',\n 'TjhhgTLpVZhpLDZqrTqZVpBSwJwzNnWNWJvzzNSggwwN',\n 'PHTMsmwrJMwLJvJddvdHwvcWnnWfccqGnhhfGcDqsnGc',\n 'tZVlzQZblBgcSqqRhRmzqf',\n 'CmlgmZlQtFtZNlVZdHLMrMvvCrrvvTTC',\n 'PrDGBBddprmzddrSqccRgSTpqbsMRR',\n 'hvLtfFNvvZNfGGfRgbqsRNlTSSgsbM',\n 'QQQjZHHQjvththFffCHPPzmGrmDzDWrWBw',\n 'GrjGrpjjCsnwhsGGPwlPTPLPVttPqLVl',\n 'HzSHHhczRlLTHqqq',\n 'DbhvFSSzQcZbcFbcQjrJrMJmmZnGJmJnjn',\n 'mvTDsJLwzlWNDDnZngZNdd',\n 'BVtPqFMqtvQFqPqjFBMVtRZGNGhfNcfQdpfgnQgNcNgp',\n 'HBHtPbHCLCzsLJvT',\n 'nVHVFfggbQVmFFfhLpBpBTrfLBCB',\n 'cjjRwJdqtwwwNNjcwRMwnLNTpNsGCnLsLGhBhpNn',\n 'tJqStcRMMMjPwlnvzgQWzmHzlmQl',\n 'nNSRcDHRmHhhDZZZdBDfWJdfrJ',\n 'LGrGVtjCPCbbQQQQLvQpbVQZzsqsBMdBqMvZMMJZqJvdBW',\n 'GCPLlLPPPbTpbCbpLPpVlmrmmrHhHcHnHrHHgTFFnm',\n 'rQbnBrDTQcdpHttt',\n 'qNsNpfjLpNLRNqLMtdVsddcmVzdzVh',\n 'WJfLCfvpWpNLbwwwBwbZFvlZ',\n 'ZslGPhBWBJbNjmbTmSWN',\n 'qtDCZcfZtDjbjCQvmmSj',\n 'ttpRzqtqRLDzpRtDdtPlhhZZGBHGPsGZPhwd',\n 'WjtcNnMtztGFrsNjcgRHvdwHhhjRwlhwlg',\n 'pPSpPBPVqJqBCCPvZdHlVGddwdhvgH',\n 'qpDBpBqPTDLqGLmpTPqbDmWMNrFrrFQnFMNnMNQtMm',\n 'dNwfsjFLQLFNBhTCTPPTBJhhTP',\n 'VmVMgqgRVHtztmgqgzgqRzgMPWCRWTpPCCPWPThDdZPCRZJp',\n 'VMqtMgGHmgVMvmqMMtGMSmbslnQFcsndfjNNsnfscnbddF',\n 'qbWcqrFNCJGSChvLGv',\n 'MnslRSpSVsGgGhDDwLvl',\n 'RjMtfnpmmmjSWSbjrNPN',\n 'rsCsqTVgfCnQFdCznQ',\n 'ZRsBvMvmZMGQQmFnDmQzzQ',\n 'MlGLlBjRGjjWWGRGMlNrLLrssTPNfLcTgrVr',\n 'vpSBBcJnWnSmcqmcChdcgf',\n 'NRNPFDwwDbThqTJffZQHhd',\n 'DzPDNVNbLwPzMLRbNMDjBlvpWjrvrVJjjSsBjr',\n 'dndGpnWdVnBPFFHTBgGH',\n 'qCcCmjqNNJDtcJQjqJqMCQJcFTBRZRwBZBHDPRHBHZDbgBBR',\n 'szJcCtNQqjqCNjjNhdgWfLLdhVWsSVnr',\n 'NjJLgSLGGCLWvqNqNBvwFb',\n 'htmVmtHnlZmDVhtmhblmDMHddBRvwwZQQqWPFvFwdvRWdR',\n 'HnlnHfDsbSTbJzsz',\n 'JvZfsPsPhRfZZnCdtnmjHVRLCH',\n 'TzcczTtgqpgGSTlHHVHCGjCdHdnQQQ',\n 'wDBDSDlWzwwzDqqMtrMrfsfbNvJNJB',\n 'ThfQTdQzQbgdhdNbJFJSlbBLlmqqHBSHCRHsHm',\n 'rWBWWPcvpGGwjPPpvpPGplRSnLLnCrLRsRlLsLmLmR',\n 'cGWPPMtpZDwpMpJQBQQQDBBVNfdQ',\n 'WcWDRLSzFrRFFccPmnssMrGtmMnnGm',\n 'jvvgCCTvNqTtJqsnqwPBmspZMB',\n 'gbVgbvlChJVbCdbtTgjdLWSHWcHSDcQzFzRzDF',\n 'zTrHgrFWRrWvMpPNBVZZHVfN',\n 'hdnlltGLtGSQPVLSNBQN',\n 'CqGGtGwlhlGdtGmbtjtmmvDRFvVFTTRDRbRgFJRbDr',\n 'DTFpQFrZDFBDFrTNFjSWJsWlWjsRJcslsp',\n 'zzPqvdqNzvqzfzMfzqmCzzfJsclWjSSRWglgjclWSmcjlJ',\n 'hfPGwhhvMGCVCdddhQQZQnNrTDQnFrtn',\n 'DDMFjwVTgVmMWgVpdqtlJnpvHHnslw',\n 'fFfZzLSfzBfZBZtqJJHsnSsldlld',\n 'GLcNhRGLZBhmDWTjDTWF',\n 'FbVcQRVRBFfNFfccVfZcWddnGrrHncWtdHsZ',\n 'hwGwjgTSGrssZHHTdn',\n 'LvPvCJgJLwjlSJmSPLvvgGfFBpBVfLLMBQMRRbzMVb',\n 'rfMCJPBMMCrSCSBGZZqRlRLzqhqh',\n 'LDvdNmbgHjHgnmnvnHjgDjqlZhZzszhqzWsRWRRNcRNZ',\n 'dmbvHDdnjDjVmjTmHjJVrfprPCCVtLSMrSpJ',\n 'fdfTBfNVZffMmdfdhGhcJLJrvnlJvrBJ',\n 'FFWFWTzWSWtFgPHgRPWTzggpJcvvSCGSGJnrvhhrrJhlGlGn',\n 'pztFjzRTqWzgHqHWtPtPFgmsNfqbDdwDNVwbmfwbdNsb',\n 'zCHvDWwvCwgpNRCWWHttCwvNPVTqrRrVbbsnbqQPbVsbPrqG',\n 'jBBcmZBGmBSSJdmhBVbnnQrVbVqqVPbhbP',\n 'ZfJBmLjfJZMcdZmJffGMtHtwNCvWwwwztMzg',\n 'rgFgllfdpFlTHfTnfnNPNtPBBVtpzmVVPmmP',\n 'bLSSbGhGWSWmLzztcQPCQC',\n 'jvwhhwRwbwshjGhWwsRRTFflFJFzfddFrHzTrJ',\n 'GSwgSdwfvdfvwgGwBLdJbjjpmFjSTRpqHmRrjptrqt',\n 'NDMVMCsWQVCsQFjFTHjVLqjFrp',\n 'PzWDDCNNlCWfbhZZLfBGwl',\n 'clFLFpFJcVmmWWgWWcWTdwZqCZCZqDqDDSwvwrdHCZ',\n 'GGLfGtbfMNbbLGtzjBNnsMjjZCwDvQZHrHQvDHHHHHHrrNHq',\n 'BthbnfPGMstmJgRPpFRTLL',\n 'VRcdVRPTgVTLVMwmggJBwblJFlmb',\n 'CqDDQsjCCrnnnQQtDcrnGCssJZNvZbvNQmZwmZlbNbwFNwmF',\n 'pstjcqrprsHrfDpnrCnHCzRhSMhMMMRVPLMhddfhzT',\n 'QNDQThccDghdcLLgVsrVLVlMGM',\n 'BbbWpppFFpnfnFbBBPRMTJMRsGlJGlJVLf',\n 'wpnbmvbnSwSnmzHHzwwhQqTctNCcqdNqZvhQjj',\n 'lwCLwLjzLhLHCvwjGCZJbQSHdBQdDdbDtdSQ',\n 'pnzcTVsszpncgFdJpbtDBDttDSJS',\n 'zTPcRrfzgzCCvGRhLLqW',\n 'BgDbztvdDzLZZwMbDDcFHQQJPLWWPJQJHTHF',\n 'jfpNqSrpCqNfNSpjCqSqshNFRQJcJWRRFssgWRHWWFWHQJ',\n 'mrnNNgNfMZwmDtZw',\n 'ZrrFPQsQPRLcvPJvhg',\n 'HpmTjnBmDDDwqtVcHNvJhNVRhgvh',\n 'tTpTGfnttqwnqQJzFdzfSdzSzr',\n 'qVVZqfVNdnBZMNzNnPzfMqbzJvFSjSllvjBwrvrvFrlsrjJs',\n 'LhHtDTmWmWmGDhGLWHghHLCwrwRjjsPJrSjFjFrFClvrww',\n 'mDDgtcLcmtTWTTHhpWLDHhDNMqVnqfdqbZdQpqVbzZVPVb',\n 'WGpVMtGZplgHVWMtZpZFHJjndvFdjddJhnjLHF',\n 'DTrRcSSccfzcCPDCTnvJvjbrrhjNvqjqJL',\n 'zczwPDTmfZZtgLwWlp',\n 'sTtTpvMjpBdmTlhlBTdvsvdncmVcVVVVHzFqVnFfqzHzWV',\n 'GGwQRZNCRgDgsDDbSbSgfGFFrHfVHVVWrHWWcVFF',\n 'RZRPgbNSJDsTsplPLsvd',\n 'GrGNGhpnPFFBfCQCMwrVlwTC',\n 'PPWHmmSvSvdTfJvJVVfCfJ',\n 'RjWDmDdDbjcSHmRRLRRHjdDBsFFbBngBzhqbBhpqBPgFFg',\n 'TfdNjJjmShGcWvQNQqcNFN',\n 'gsRZRMqbDpsHHnZnngMZFPlzQRPWvRtPwtRWzlPv',\n 'brgMMgZCLsDpHGGjfGJVSCqddT',\n 'BdSRjHScGMVjGdcScwLgqQqphNqNDqBBQW',\n 'zzQClvtttrwqrwgCwp',\n 'PQJTzvJJTtJQlvQftmfdmdmGRcSdcMSGdS',\n 'PjPwvwlfGlGCGwppWBsWQVVQnpCQ',\n 'FRSHzMJdrfRnpmpWmp',\n 'TzJTMNNrHLJfTJccvjqwwgGLZLLc',\n 'dCpjsGvcsLvszTrRRlRrDJ',\n 'hPNqqpbhFlrDnPrRnz',\n 'SBbphFNtLvvSfLfc',\n 'zTFnnZzqrjFVnZTrtwMDptbpMwMMBDzb',\n 'JGPCjWGgJjPWGJjNchmbBRpNNDsRsNBbbRBppD',\n 'JWCggWSCmhCmvWHTQrTQfHjdVlQZll',\n 'WWbrmZjbmjpbWSmcWHSbLddwvDggLFDhFrRlFFDw',\n 'qPMVzTPQVfzvVzBQTMtRswwlDdhDghhsfLwdhs',\n 'MMMPQBPJPzCVzvzQVtBJJMzCbmSZNWbSccHHmmZpWSZGZS',\n 'BgmMgjlBMjHPssBnwphtFwhSVVmGGwFS',\n 'rfCqQQrfvCQNRqCnCthFVSGSGtVS',\n 'TrzLNvWfQvrWQZNWsnHsssBBcZBMsDdZ',\n 'CtJCddDHDDPGHCdNVLPBdLDbbGFbwZSsSSZrfFFrGbGlsb',\n 'gvjpnvhRphjmpmSfsTSnPZZrZfrZ',\n 'ghRRRhQgWvmPWtHHtLdMtH',\n 'qNgQgNgNQFVbqVQDMRZMDRBHHJHRFh',\n 'jnTTPzWZCzrWzGRHMrhmBvJBSBBM',\n 'jtCGWnCWPTsTzlctWPtqLbwqZggNwgLbwdVq',\n 'DJgJDgFqCGlhFDGDCWhqCwRfpbcpbsgsVscRpwbwws',\n 'SmLZQmMVvLbsbssNQsQN',\n 'tHZMLZZZMVtmnMHWDHjWlGhFDqCl',\n 'PZRmjlDBWRBWBQMdQQBDPRhfzSSTTnfFnfzFpVFjfSVFgS',\n 'wwHCHLtLwnzNHVTZZV',\n 'rJLtZtLZcCrvJwcbrGLvrcDQDhPldhGdmmPRQhhRBlPM',\n 'zShzVhbqlbpbRNRscBNwCc',\n 'DfmFWnfmnMFDdngdngvJFHgQQNwNsHHCQCwNTTzRcN',\n 'FFFZMWWZZJMmJJMFFpztlPtSllLVphttGZ',\n 'gWhGwmwQGhVwGzBMnDFmdmDDLbCnLn',\n 'tRRHNHHlPHPfPltllNNNRsVPFrTrTbrMMTTDMdLFCrFdPP',\n 'HvRvvHNpNvfqSshwqwVQZWhggwhw',\n 'jDDRDVqNsRMMVFjFbtzpBlpllCBlhSLHSStH',\n 'JJWZZTwWcmZCzQShHhzhhm',\n 'wTrgvTwccvdcfvJvWJrvJTNzNMfGNNGjFRsjNDbfVzDs',\n 'cVWPPThWctcFRdQpzLTzBL',\n 'NNCqwNSrsDqNSSgLgffDCNpBdRvvdpmHRQvBdBqvdzBB',\n 'CgbffsDJsSsNgbgJrlcGhGtjnWcJPncjWL',\n 'RwwTGRjGlwWNgjgfQVNmjj',\n 'HJPdLhLzhbtbdLPLbHHJLdcfBffBgrFQVZgzvgBfvrvvmr',\n 'cmchnhtPqLSJJbdPLntlsDGCTWWDsDRwWWWTwS',\n 'DDDBsPGPbwhDcDcj',\n 'rgfNgCmHMvrrttvtfmNLgrLcQQJTJhcnjTQHcZlwlQHnwj',\n 'wgfLmgFgWdBFzSVR',\n 'RwsbssJjnbJwwsGPPdDLfTDLLLWvWNDGDpWD',\n 'zVtHqzHHVcBQTdpSgvQDSpTS',\n 'HHhFCdrrHchmrhcmwsjZwRwMJlshJJJZ',\n 'BdQgtJMLBqshLfNhbccfFhffNc',\n 'DnVWvvpvWvzrpwRWDbTvbTjTFGlfFSfNSFHGmFGNFmnPlmFS',\n 'wDRDZzVWVjrRVjzrQgQdbgCZLCsCQtbd',\n 'jQSgWjQmFFvHmjHWVVpZbGlbGlfGpbfGGWpf',\n 'zBPtTqzPBcdwrzPJwqCztTNvCGpbGfDnfhZpNGGZGZbG',\n 'MTzPtcrcwzTttdBJwPvFVHjMLFHQMgsSLHvs',\n 'BHtjmmTtmDtHZjMMdNzCzCWcWZsZdsZs',\n 'JRRJVPLwQJrVMPJLVVwChpRRhcdzcNzhzChNdW',\n 'SrFwfGwGSnnGPlBMDtjbllggBn',\n 'rsMDTrgsBNBgMgDBhfhDghrtcRWJttcmGRWLGQQLJRrqRL',\n 'lnVVjvPbwpndvVwlVCjVwtLcsmLLqWWtttlsmGGcmm',\n 'SsjVSCZbgTBTfNZH',\n 'wlddvlldlBzqSmStdqmmngwgDCgrpMpgCngrMCfn',\n 'jVLTHGRHjjvPGcDrfNMbnpngVbpf',\n 'RJRTTRZJLRJQZcGGHLhHvTdmBFWFtWzqdWWQlFzqBFWt',\n 'HDgZHpZSDpBQdRpHHRsDBNNzTvfTQqcqNNTqTqPQvl',\n 'rnMFFMFJwmNgvmfTzcfq',\n 'CWMtjCWMCCLWrWVWJwBbpgtRZSHbddZHBDDb',\n 'hjLWPZJpZptwJghSfgHTMTgRMR',\n 'lCcrblcnlzqDsvbfffTRSMnffjHTgj',\n 'sqscDcblGDDpWPwFGwjLLp',\n 'plQtRqRlGpPPPLZtmtpttRtJjHJvddLTHrLHJJjbdHvrrN',\n 'gcMgTBWBCTczjnvNznnbgH',\n 'FBhSwsWFWDhQZQqTTZllsT',\n 'WsVttWDbvbtRjDVtDbDbJjrjFpCCcBrSCwrrjwww',\n 'nzHqGNMfHqMMwJLLsNBrNcBS',\n 'qgnHflgzHlqlZzhnzssfzbZtmVvmTQvQdTtbbDbTvv',\n 'RtQCBbJDFhJtQtZtCbMnVnPVfGPpJVJWWmwJPG',\n 'NsczRsrdrNrjlcSTGGnwmGmnmVPWwmVT',\n 'SHcljRHzNHHjSHcrgNslcczgZtDgMDBCvQQbhDBCbFBCFCCF',\n 'dRTFRJTRTgJzSSJmzJfN',\n 'jLbQllLvvvrQlLQBrvQmFBGzCFtPSMmSGCtPPF',\n 'QjsvDvqlvrQQvnsLjDWghTwZWcccFdRVpc',\n 'bWnDbMJMFbhZSfngpfpd',\n 'HjcrlvjRjrjlLqTqpwQgpfSQgghZgvgf',\n 'THNTjClLHDCCpWmbtC',\n 'NpBNsnFMLBcPMZccbQGblWRgGZmbRWdW',\n 'CqrJTHCvDfrfwwJHRBvRGvgQmvmlWtlR',\n 'rHzJJJDDwJCqjHTwBLccMpFhshnSSsMz',\n 'bqVqqrDMpLFbLpJJQDMjbpZndwsvwHHswvnvnnZslG',\n 'hgfRghhBWgfzBgZvncvcGvWrnZsG',\n 'fTSSSBtTzhPththRrrCBzVLqMMJQjVJJCLjFjjqjJq',\n 'pQlCJQjVvVGGnjNqFbFP',\n 'wTqtmSmTBhstmstTmWRSdLdfPdNGnhGhdPNnNnrN',\n 'mzTZBwWTcSTsTmZRRmzTsVMMVMQMDJgVqqMgcJlVDl',\n 'vVwCqdCDvMrlDJCqrDMrPdTFWwZNbRcbmZWQbRQZWZcQWm',\n 'fGSfhfjHGBlhSpRmpZFZNbQWjj',\n 'ntGlgSSGgStVqdMCDCJnqd',\n 'TlTRCrhCpmnCRtMRRWbvMBfwBB',\n 'DVdQcsccdczbtQBWvmQBBW',\n 'PgHPNcmcqqTphlHTCGrT',\n 'GVLCBmdLVtlrmqGCqrTCGnjGSfwzNfPzfNNGzSSw',\n 'rMDcWMJsDWRvRcsZPwpJpSzjwwfFjfjJ',\n 'hcsscQQsDcWbHbmLgTbVgTmlrbgq',\n 'VwJndPThQQjdvbrb',\n 'BHlzFFjlZGBBlZBDFSmllfGggLNbNvggtCgNrLQLbfvbfg',\n 'SHSHHlZSGZSDHGzHssGmnjhjphJPPpPwnsJRwPMM',\n 'QFFGpfGtwgtjwvpwpGGjjBHgqzNNllHRlRllNdBRJl',\n 'SWVDWVrDhnWhnqVnWPrhcSldBJPsRMMdPHsRdJHRMMBP',\n 'SWZZcmnnZnSCLZDZftFFCvbfTTqTCTQF',\n 'TvZBTFZpshPggBNN',\n 'bbctWQDjcnwtwDDDllQzLfgsPzqgrsTPLshWfP',\n 'bwRbQRnmDwtbTjmwRJQRQVZHpCpHVdvpMHZZMHZJvd',\n 'CfqzMCGvGqNrCFFNwcMBbnnbbtBbDStw',\n 'sJjsTjvVjLVlLLbtHSnSSwQsDBSH',\n 'dJlvLVgJTRVPWWjjggCzhNGzzGZdhqrdmqrq',\n 'zGSHWGjzpRsWVfsNwZ',\n 'BmPCLzPlJBBvQmLFQrwwrVtfqtqZtsvwfR',\n 'hLLzlmmBPFFLJMlmgDTMgdSGbDgGHbSp',\n 'ppngVjZwNZwwVJjjnnVVJJJpLrsgmsmrbctsLcLmscDggDsL',\n 'vHvRzRPvQPPRqPTlffRTrssbtqmmtbcMcNrDrrtD',\n 'CHWdWzWQzdChNVZjZZwB',\n 'LjVFhwjbFggMdVggTVMNRWRGWqQWtRNWGlQW',\n 'DCzCpJppzJJDScFBzvBGnRWGWrNRQNNWGtNGqB',\n 'vFJSzDSszzzccSZHzDDJmvSJhVwLjfVTPZLfwLgjThLZwhVh',\n 'FMSSNScRlSGzfqWbqqcpWBhpmW',\n 'TrPrnQNnJwtQpmmpmbbL',\n 'vwvCsJZZnnwVnVHsfNjDRgSjRzgRjZjN',\n 'CRhsghlqlvjhPslQdrMndMTWdPnTMJ',\n 'tcDNFDpDSDwDtHrSDwDtFmtpJzWTnzQJpzQGnGWQMWnnTGBd',\n 'ZfFSmSfwcwcScZHtVRhRCqLqCfrVrrfg',\n 'vHPsBzvRvhCzbwbnjHLVmVbW',\n 'ggdlpZNdZdflWTGpVMjgVbqjVmngnVbr',\n 'lNpfllFGpZTtclDZzSWQFCWWzChPzQhS',\n 'ddbJQGsgJcQccCjjTC',\n 'DDflHqNNNjCCPNbT',\n 'LFpLzfzqHzLbLvtndJhs',\n 'mHtbGdwzmtHZrtrHtHGwrmtcFgBFRsBFcdglRsfsdgJBNN',\n 'WvpSVjCCTCSPVDqTVjLqJwWRcWsNlgBcBlfWBRfl',\n 'qDwjvqjVTDDLSPpnjqVnzbhbZbrGMmHzbMHHhh',\n 'cMrrVsdtCdVtwqdHgLjPLFLfcfZZJB',\n 'zGSlGGvpDWWvbSSNTggZPPTTJLZPjPzJ',\n 'bNQDWbjlGSGNnWGblbQDQCmdqhsMtrsVnCrtnwdnCt',\n 'WZSnCCMMdMMMSJMSVZmmFqVjqjVwVjjc',\n 'zvzTlQQQQTNGbmQTjqBjcwwwGgBHGwqB',\n 'mthbtmlPhTrNzNhhPLzlPzWfWPJdRCWspPWSSRsWSnJp',\n 'nmqsjNFqNLcVlPNvRdvPPv',\n 'MrggHrMpbtTpgpDptlQRJJldVRPBsDQvvV',\n 'grgrTzfTGSFGsGSCLc',\n 'hjdjCfQCLdQcWMfDDQhLsLCjqvVqzzZZprBFbzVdvVnqnBbd',\n 'NTglmJGJRnRZVrVvFr',\n 'gPGgPJSTPJtHncnjWDhDMDhP',\n 'ZWWqBqqmgFFDMTTWDMwwcW',\n 'ddGPpJQPprRSCrQzJPJGjHDvssMTDZDwcHhMsHsMHS',\n 'zNRGrCRRCjPpdGQJNglqntnbtgNBZtFqtt',\n 'pslQSspQrqHfgMRl',\n 'tJBTjsTLGMBGMFMg',\n 'tDwnhZdnLdZDwczzcPvsVvVW',\n 'nZnMSDnGtnzmzWZZcMmgMcHwFFVHhHwbHsVrwQhVhF',\n 'dlTqNqfTjdJflCppCQQRHVwFRJrvJsFVQs',\n 'LNTqBLPprpLLzWtSnMZBMDGm',\n 'PBjlPvvcJlJzwqjnnjLnwm',\n 'dMfdpVfVhGVfVpVTtWWbzwngLMLwMRCmgmLMmsww',\n 'SWppdTrprThhrGVztcrllrQJZNlBZlrNZB',\n 'TTrNcjGNWDdDPDpPjDPNrbmFPfQSFmfSMCmCfSmSSR',\n 'sshhqshzBVnzHgwCMbCwcfmRFmRMbm',\n 'gHVVnBzJcBgVhtZZtgJhpGrGNpvDpddvprNGrlTJ']"
     },
     "execution_count": 290,
     "metadata": {},
     "output_type": "execute_result"
    }
   ],
   "source": [
    "with open('day3.txt', 'r') as file:\n",
    "    data = file.read()\n",
    "\n",
    "data = data.split(\"\\n\")\n",
    "data"
   ],
   "metadata": {
    "collapsed": false,
    "pycharm": {
     "name": "#%%\n"
    }
   }
  },
  {
   "cell_type": "code",
   "execution_count": 291,
   "outputs": [],
   "source": [
    "firstSection = []\n",
    "secondSection = []\n",
    "for i in range(len(data)):\n",
    "    firstSection.append(data[i][0:len(data[i])//2])\n",
    "    secondSection.append(data[i][len(data[i])//2:])"
   ],
   "metadata": {
    "collapsed": false,
    "pycharm": {
     "name": "#%%\n"
    }
   }
  },
  {
   "cell_type": "code",
   "execution_count": 292,
   "outputs": [
    {
     "data": {
      "text/plain": "['FqdWDFppHWhmww',\n 'ZBJrDVfQcf',\n 'cBffPfbrbQcgQJggfVQJBPbC',\n 'PNbMLgmPgRDgRtMPDdmdbmdm',\n 'ljvvqhlvshh',\n 'zGhWzFTJvsF',\n 'hhGdDhfdDhmdnH',\n 'WTTZJLsvLRJCcWJWScWWL',\n 'vLJcLLTRsvsTZP',\n 'dJszLvzvCZZsJmszCrrd',\n 'nRjRbnnjlNhblnjtVtQlW',\n 'GWVQTVTnTNhjblQNR',\n 'RnLJBfmJfm',\n 'grhgrtqgjJhhgg',\n 'GVTTsFFjJjVVFVGCFTJDDjhF',\n 'bwSNRNSRzSWnPnJR',\n 'FGpDqTTVFFprpjLV',\n 'TjhhgTLpVZhpLDZqrTqZVp',\n 'PHTMsmwrJMwLJvJddvdHwv',\n 'tZVlzQZblBg',\n 'CmlgmZlQtFtZNlVZ',\n 'PrDGBBddprmzddr',\n 'hvLtfFNvvZNfGGf',\n 'QQQjZHHQjvththFff',\n 'GrjGrpjjCsnwhsGG',\n 'HzSHHhcz',\n 'DbhvFSSzQcZbcFbcQ',\n 'mvTDsJLwzlW',\n 'BVtPqFMqtvQFqPqjFBMVtR',\n 'HBHtPbHC',\n 'nVHVFfggbQVmFF',\n 'cjjRwJdqtwwwNNjcwRMw',\n 'tJqStcRMMMjPwl',\n 'nNSRcDHRmHhhD',\n 'LGrGVtjCPCbbQQQQLvQpbVQ',\n 'GCPLlLPPPbTpbCbpLPpVl',\n 'rQbnBrDT',\n 'qNsNpfjLpNLRNqL',\n 'WJfLCfvpWpNL',\n 'ZslGPhBWBJ',\n 'qtDCZcfZtD',\n 'ttpRzqtqRLDzpRtDdt',\n 'WjtcNnMtztGFrsNjc',\n 'pPSpPBPVqJqBCCP',\n 'qpDBpBqPTDLqGLmpTPqbD',\n 'dNwfsjFLQLFNB',\n 'VmVMgqgRVHtztmgqgzgqRzgM',\n 'VMqtMgGHmgVMvmqMMtGMSmb',\n 'qbWcqrFNC',\n 'MnslRSpSVs',\n 'RjMtfnpmmm',\n 'rsCsqTVgf',\n 'ZRsBvMvmZMG',\n 'MlGLlBjRGjjWWGRGMl',\n 'vpSBBcJnWnS',\n 'NRNPFDwwDbT',\n 'DzPDNVNbLwPzMLRbNMD',\n 'dndGpnWdVn',\n 'qCcCmjqNNJDtcJQjqJqMCQJc',\n 'szJcCtNQqjqCNjjN',\n 'NjJLgSLGGCL',\n 'htmVmtHnlZmDVhtmhblmDMH',\n 'HnlnHfDs',\n 'JvZfsPsPhRfZZ',\n 'TzcczTtgqpgGSTl',\n 'wDBDSDlWzwwzDqq',\n 'ThfQTdQzQbgdhdNbJFJ',\n 'rWBWWPcvpGGwjPPpvpPGp',\n 'cGWPPMtpZDwpMp',\n 'WcWDRLSzFrRFFcc',\n 'jvvgCCTvNqTtJ',\n 'gbVgbvlChJVbCdbtTgj',\n 'zTrHgrFWRrWv',\n 'hdnlltGLtG',\n 'CqGGtGwlhlGdtGmbtjtmm',\n 'DTFpQFrZDFBDFrTNF',\n 'zzPqvdqNzvqzfzMfzqmCzzf',\n 'hfPGwhhvMGCVCddd',\n 'DDMFjwVTgVmMWgV',\n 'fFfZzLSfzBfZBZ',\n 'GLcNhRGLZB',\n 'FbVcQRVRBFfNFfccVf',\n 'hwGwjgTSG',\n 'LvPvCJgJLwjlSJmSPLvvg',\n 'rfMCJPBMMCrSCS',\n 'LDvdNmbgHjHgnmnvnHjgDj',\n 'dmbvHDdnjDjVmjTmHj',\n 'fdfTBfNVZffMmdfd',\n 'FFWFWTzWSWtFgPHgRPWTzggp',\n 'pztFjzRTqWzgHqHWtPtPFg',\n 'zCHvDWwvCwgpNRCWWHttCwvN',\n 'jBBcmZBGmBSSJdmhB',\n 'ZfJBmLjfJZMcdZmJff',\n 'rgFgllfdpFlTHfTnfn',\n 'bLSSbGhGWSW',\n 'jvwhhwRwbwshjGhWwsR',\n 'GSwgSdwfvdfvwgGwBLdJb',\n 'NDMVMCsWQVCsQ',\n 'PzWDDCNNlCW',\n 'clFLFpFJcVmmWWgWWcWTd',\n 'GGLfGtbfMNbbLGtzjBNnsMjj',\n 'BthbnfPGMst',\n 'VRcdVRPTgVTLVM',\n 'CqDDQsjCCrnnnQQtDcrnGCss',\n 'pstjcqrprsHrfDpnrCnHC',\n 'QNDQThccDghdc',\n 'BbbWpppFFpnfnFbBB',\n 'wpnbmvbnSwSnmzHHzww',\n 'lwCLwLjzLhLHCvwjGC',\n 'pnzcTVsszpncgF',\n 'zTPcRrfzgz',\n 'BgDbztvdDzLZZwMbDD',\n 'jfpNqSrpCqNfNSpjCqSqshN',\n 'mrnNNgNf',\n 'ZrrFPQsQP',\n 'HpmTjnBmDDDwqt',\n 'tTpTGfnttqwnq',\n 'qVVZqfVNdnBZMNzNnPzfMqbz',\n 'LhHtDTmWmWmGDhGLWHghHLC',\n 'mDDgtcLcmtTWTTHhpWLDHhD',\n 'WGpVMtGZplgHVWMtZpZ',\n 'DTrRcSSccfzcCPDCT',\n 'zczwPDTmf',\n 'sTtTpvMjpBdmTlhlBTdvsvd',\n 'GGwQRZNCRgDgsDDbSbSg',\n 'RZRPgbNSJD',\n 'GrGNGhpnPFFB',\n 'PPWHmmSvSvd',\n 'RjWDmDdDbjcSHmRRLRRHjdD',\n 'TfdNjJjmShG',\n 'gsRZRMqbDpsHHnZnngMZ',\n 'brgMMgZCLsDpH',\n 'BdSRjHScGMVjGdcSc',\n 'zzQClvttt',\n 'PQJTzvJJTtJQlvQft',\n 'PjPwvwlfGlGCGw',\n 'FRSHzMJdr',\n 'TzJTMNNrHLJfTJ',\n 'dCpjsGvcsLv',\n 'hPNqqpbhF',\n 'SBbphFNt',\n 'zTFnnZzqrjFVnZTr',\n 'JGPCjWGgJjPWGJjNchm',\n 'JWCggWSCmhCmvWH',\n 'WWbrmZjbmjpbWSmcWHSb',\n 'qPMVzTPQVfzvVzBQTMt',\n 'MMMPQBPJPzCVzvzQVtBJJMz',\n 'BgmMgjlBMjHPssBn',\n 'rfCqQQrfvCQNRq',\n 'TrzLNvWfQvrWQZNW',\n 'CtJCddDHDDPGHCdNVLPBdLD',\n 'gvjpnvhRphjmpm',\n 'ghRRRhQgWvm',\n 'qNgQgNgNQFVbqVQ',\n 'jnTTPzWZCzrWzG',\n 'jtCGWnCWPTsTzlctWP',\n 'DJgJDgFqCGlhFDGDCWhqC',\n 'SmLZQmMVvL',\n 'tHZMLZZZMVtmnM',\n 'PZRmjlDBWRBWBQMdQQBDPRh',\n 'wwHCHLtLw',\n 'rJLtZtLZcCrvJwcbrGLvrc',\n 'zShzVhbqlbp',\n 'DfmFWnfmnMFDdngdngvJF',\n 'FFFZMWWZZJMmJJMFF',\n 'gWhGwmwQGhVwGzB',\n 'tRRHNHHlPHPfPltllNNNRsV',\n 'HvRvvHNpNvfqSs',\n 'jDDRDVqNsRMMVFjFbt',\n 'JJWZZTwWcmZ',\n 'wTrgvTwccvdcfvJvWJrvJT',\n 'cVWPPThWctc',\n 'NNCqwNSrsDqNSSgLgffDCN',\n 'CgbffsDJsSsNgbgJr',\n 'RwwTGRjGlwW',\n 'HJPdLhLzhbtbdLPLbHHJLdc',\n 'cmchnhtPqLSJJbdPLnt',\n 'DDDBsPGP',\n 'rgfNgCmHMvrrttvtfmNLgrL',\n 'wgfLmgFg',\n 'RwsbssJjnbJwwsGPPd',\n 'zVtHqzHHVcBQ',\n 'HHhFCdrrHchmrhcm',\n 'BdQgtJMLBqshL',\n 'DnVWvvpvWvzrpwRWDbTvbTjT',\n 'wDRDZzVWVjrRVjzr',\n 'jQSgWjQmFFvHmjHWVV',\n 'zBPtTqzPBcdwrzPJwqCztT',\n 'MTzPtcrcwzTttdBJwP',\n 'BHtjmmTtmDtHZjMM',\n 'JRRJVPLwQJrVMPJLVVw',\n 'SrFwfGwGSnnGP',\n 'rsMDTrgsBNBgMgDBhfhDghr',\n 'lnVVjvPbwpndvVwlVCjVw',\n 'SsjVSCZb',\n 'wlddvlldlBzqSmStdqmm',\n 'jVLTHGRHjjvPGc',\n 'RJRTTRZJLRJQZcGGHLhHvT',\n 'HDgZHpZSDpBQdRpHHRsDB',\n 'rnMFFMFJwm',\n 'CWMtjCWMCCLWrWVWJw',\n 'hjLWPZJpZptwJ',\n 'lCcrblcnlzqDsvb',\n 'sqscDcblGDD',\n 'plQtRqRlGpPPPLZtmtpttRt',\n 'gcMgTBWBCTc',\n 'FBhSwsWFWDh',\n 'WsVttWDbvbtRjDVtDbDb',\n 'nzHqGNMfHqMM',\n 'qgnHflgzHlqlZzhnzssfz',\n 'RtQCBbJDFhJtQtZtCbM',\n 'NsczRsrdrNrjlcST',\n 'SHcljRHzNHHjSHcrgNslcczg',\n 'dRTFRJTRTg',\n 'jLbQllLvvvrQlLQBrvQ',\n 'QjsvDvqlvrQQvnsLj',\n 'bWnDbMJMFb',\n 'HjcrlvjRjrjlLqTq',\n 'THNTjClLH',\n 'NpBNsnFMLBcPMZcc',\n 'CqrJTHCvDfrfwwJH',\n 'rHzJJJDDwJCqjHTw',\n 'bqVqqrDMpLFbLpJJQDMjb',\n 'hgfRghhBWgfzBg',\n 'fTSSSBtTzhPththRrrCBz',\n 'pQlCJQjVvV',\n 'wTqtmSmTBhstmstTmWRS',\n 'mzTZBwWTcSTsTmZRRmzTs',\n 'vVwCqdCDvMrlDJCqrDMrPdT',\n 'fGSfhfjHGBlhS',\n 'ntGlgSSGgSt',\n 'TlTRCrhCpmnCR',\n 'DVdQcsccdcz',\n 'PgHPNcmcqq',\n 'GVLCBmdLVtlrmqGCqrTC',\n 'rMDcWMJsDWRvRcsZ',\n 'hcsscQQsDcWbHb',\n 'VwJndPTh',\n 'BHlzFFjlZGBBlZBDFSmllfG',\n 'SHSHHlZSGZSDHGzHssGm',\n 'QFFGpfGtwgtjwvpwpGGjj',\n 'SWVDWVrDhnWhnqVnWPrhcS',\n 'SWZZcmnnZnSCLZDZ',\n 'TvZBTFZp',\n 'bbctWQDjcnwtwDDDllQ',\n 'bwRbQRnmDwtbTjmwRJQRQ',\n 'CfqzMCGvGqNrCFFN',\n 'sJjsTjvVjLVlLL',\n 'dJlvLVgJTRVPWWjjgg',\n 'zGSHWGjzp',\n 'BmPCLzPlJBBvQmLFQ',\n 'hLLzlmmBPFFLJMlm',\n 'ppngVjZwNZwwVJjjnnVVJJJp',\n 'vHvRzRPvQPPRqPTlffRT',\n 'CHWdWzWQzd',\n 'LjVFhwjbFggMdVggTV',\n 'DCzCpJppzJJDScFBzvB',\n 'vFJSzDSszzzccSZHzDDJmvSJ',\n 'FMSSNScRlSGzf',\n 'TrPrnQNnJw',\n 'vwvCsJZZnnwVnVHs',\n 'CRhsghlqlvjhPsl',\n 'tcDNFDpDSDwDtHrSDwDtFmtp',\n 'ZfFSmSfwcwcScZHt',\n 'vHPsBzvRvhCz',\n 'ggdlpZNdZdflWTGp',\n 'lNpfllFGpZTtclDZ',\n 'ddbJQGsgJ',\n 'DDflHqNN',\n 'LFpLzfzqHz',\n 'mHtbGdwzmtHZrtrHtHGwrmt',\n 'WvpSVjCCTCSPVDqTVjLq',\n 'qDwjvqjVTDDLSPpnjqV',\n 'cMrrVsdtCdVtwqd',\n 'zGSlGGvpDWWvbSSN',\n 'bNQDWbjlGSGNnWGblbQDQ',\n 'WZSnCCMMdMMMSJMS',\n 'zvzTlQQQQTNGbmQT',\n 'mthbtmlPhTrNzNhhPLzlPz',\n 'nmqsjNFqNLc',\n 'MrggHrMpbtTpgpDpt',\n 'grgrTzfTG',\n 'hjdjCfQCLdQcWMfDDQhLsLCj',\n 'NTglmJGJR',\n 'gPGgPJSTPJtH',\n 'ZWWqBqqmgFF',\n 'ddGPpJQPprRSCrQzJPJGj',\n 'zNRGrCRRCjPpdGQJN',\n 'pslQSspQ',\n 'tJBTjsTL',\n 'tDwnhZdnLdZD',\n 'nZnMSDnGtnzmzWZZcMmgM',\n 'dlTqNqfTjdJflCppC',\n 'LNTqBLPprpLL',\n 'PBjlPvvcJlJ',\n 'dMfdpVfVhGVfVpVTtWWb',\n 'SWppdTrprThhrGVzt',\n 'TTrNcjGNWDdDPDpPjDPNr',\n 'sshhqshzBVnzHgw',\n 'gHVVnBzJcBgVhtZZtgJh']"
     },
     "execution_count": 292,
     "metadata": {},
     "output_type": "execute_result"
    }
   ],
   "source": [
    "firstSection"
   ],
   "metadata": {
    "collapsed": false,
    "pycharm": {
     "name": "#%%\n"
    }
   }
  },
  {
   "cell_type": "code",
   "execution_count": 293,
   "outputs": [
    {
     "data": {
      "text/plain": "['zdjvjTRTznjdMv',\n 'SRMLjZnjjM',\n 'wlPtWFDWHFHhpmmGlGmlqmDG',\n 'QrTBVCZnVnpCnNHHVZBNVZHc',\n 'nrcpBZqpTcr',\n 'ttddWbMRdmP',\n 'wtzzRtdzbzQQQg',\n 'tzjwBzBttbBzSwVQjQBtt',\n 'qHGhFHGhhPhfqD',\n 'FmpppMpDMQPMgmDcDgSS',\n 'ttMFPfMfPgDMpBgSBPgBS',\n 'sdJLLdTCdzdZLrdrJ',\n 'NBHlQvvbdQ',\n 'NHqvwWqvbNlbHw',\n 'cZmRMZfnZcncSpMSGcRPZpLp',\n 'ldMBMQmMlsCcPPCP',\n 'QMMGtMclcmHGtBdc',\n 'BSwJwzNnWNWJvzzNSggwwN',\n 'cWnnWfccqGnhhfGcDqsnGc',\n 'cSqqRhRmzqf',\n 'dHLMrMvvCrrvvTTC',\n 'SqccRgSTpqbsMRR',\n 'RgbqsRNlTSSgsbM',\n 'CHPPzmGrmDzDWrWBw',\n 'PwlPTPLPVttPqLVl',\n 'RlLTHqqq',\n 'jrJrMJmmZnGJmJnjn',\n 'NDDnZngZNdd',\n 'ZGNGhfNcfQdpfgnQgNcNgp',\n 'LCzsLJvT',\n 'fhLpBpBTrfLBCB',\n 'nLNTpNsGCnLsLGhBhpNn',\n 'nvzgQWzmHzlmQl',\n 'ZZZdBDfWJdfrJ',\n 'ZzsqsBMdBqMvZMMJZqJvdBW',\n 'mrmmrHhHcHnHrHHgTFFnm',\n 'QcdpHttt',\n 'MtdVsddcmVzdzVh',\n 'bwwwBwbZFvlZ',\n 'bNjmbTmSWN',\n 'jbjCQvmmSj',\n 'PlhhZZGBHGPsGZPhwd',\n 'gRHvdwHhhjRwlhwlg',\n 'vZdHlVGddwdhvgH',\n 'mWMNrFrrFQnFMNnMNQtMm',\n 'hTCTPPTBJhhTP',\n 'PWCRWTpPCCPWPThDdZPCRZJp',\n 'slnQFcsndfjNNsnfscnbddF',\n 'JGSChvLGv',\n 'GgGhDDwLvl',\n 'jSWSbjrNPN',\n 'CnQFdCznQ',\n 'QQmFnDmQzzQ',\n 'NrLLrssTPNfLcTgrVr',\n 'mcqmcChdcgf',\n 'hqTJffZQHhd',\n 'jBlvpWjrvrVJjjSsBjr',\n 'BPFFHTBgGH',\n 'FTBRZRwBZBHDPRHBHZDbgBBR',\n 'hdgWfLLdhVWsSVnr',\n 'WvqNqNBvwFb',\n 'ddBRvwwZQQqWPFvFwdvRWdR',\n 'bSTbJzsz',\n 'nCdtnmjHVRLCH',\n 'HHVHCGjCdHdnQQQ',\n 'MtrMrfsfbNvJNJB',\n 'SlbBLlmqqHBSHCRHsHm',\n 'lRSnLLnCrLRsRlLsLmLmR',\n 'JQBQQQDBBVNfdQ',\n 'PmnssMrGtmMnnGm',\n 'qsnqwPBmspZMB',\n 'dLWSHWcHSDcQzFzRzDF',\n 'MpPNBVZZHVfN',\n 'SQPVLSNBQN',\n 'vDRFvVFTTRDRbRgFJRbDr',\n 'jSWJsWlWjsRJcslsp',\n 'JsclWjSSRWglgjclWSmcjlJ',\n 'hQQZQnNrTDQnFrtn',\n 'pdqtlJnpvHHnslw',\n 'tqJJHsnSsldlld',\n 'hmDWTjDTWF',\n 'ZcWddnGrrHncWtdHsZ',\n 'rssZHHTdn',\n 'GfFBpBVfLLMBQMRRbzMVb',\n 'BGZZqRlRLzqhqh',\n 'qlZhZzszhqzWsRWRRNcRNZ',\n 'JVrfprPCCVtLSMrSpJ',\n 'hGhcJLJrvnlJvrBJ',\n 'JcvvSCGSGJnrvhhrrJhlGlGn',\n 'msNfqbDdwDNVwbmfwbdNsb',\n 'PVTqrRrVbbsnbqQPbVsbPrqG',\n 'VbnnQrVbVqqVPbhbP',\n 'GMtHtwNCvWwwwztMzg',\n 'NPNtPBBVtpzmVVPmmP',\n 'mLzztcQPCQC',\n 'RTFflFJFzfddFrHzTrJ',\n 'jjpmFjSTRpqHmRrjptrqt',\n 'FjFTHjVLqjFrp',\n 'fbhZZLfBGwl',\n 'wZqCZCZqDqDDSwvwrdHCZ',\n 'ZCwDvQZHrHQvDHHHHHHrrNHq',\n 'mJgRPpFRTLL',\n 'wmggJBwblJFlmb',\n 'JZNvZbvNQmZwmZlbNbwFNwmF',\n 'zRhSMhMMMRVPLMhddfhzT',\n 'LLgVsrVLVlMGM',\n 'PRMTJMRsGlJGlJVLf',\n 'hQqTctNCcqdNqZvhQjj',\n 'ZJbQSHdBQdDdbDtdSQ',\n 'dJpbtDBDttDSJS',\n 'CCvGRhLLqW',\n 'cFHQQJPLWWPJQJHTHF',\n 'FRQJcJWRRFssgWRHWWFWHQJ',\n 'MZwmDtZw',\n 'RLcvPJvhg',\n 'VcHNvJhNVRhgvh',\n 'QJzFdzfSdzSzr',\n 'JvFSjSllvjBwrvrvFrlsrjJs',\n 'wrwRjjsPJrSjFjFrFClvrww',\n 'NMqVnqfdqbZdQpqVbzZVPVb',\n 'FHJjndvFdjddJhnjLHF',\n 'nvJvjbrrhjNvqjqJL',\n 'ZZtgLwWlp',\n 'ncmVcVVVVHzFqVnFfqzHzWV',\n 'fGFFrHfVHVVWrHWWcVFF',\n 'sTsplPLsvd',\n 'fCQCMwrVlwTC',\n 'TfJvJVVfCfJ',\n 'BsFFbBngBzhqbBhpqBPgFFg',\n 'cWvQNQqcNFN',\n 'FPlzQRPWvRtPwtRWzlPv',\n 'GGjfGJVSCqddT',\n 'wLgqQqphNqNDqBBQW',\n 'rwqrwgCwp',\n 'mfdmdmGRcSdcMSGdS',\n 'ppWBsWQVVQnpCQ',\n 'fRnpmpWmp',\n 'ccvjqwwgGLZLLc',\n 'szTrRRlRrDJ',\n 'lrDnPrRnz',\n 'LvvSfLfc',\n 'twMDptbpMwMMBDzb',\n 'bBRpNNDsRsNBbbRBppD',\n 'TQrTQfHjdVlQZll',\n 'LddwvDggLFDhFrRlFFDw',\n 'RswwlDdhDghhsfLwdhs',\n 'CbmSZNWbSccHHmmZpWSZGZS',\n 'wphtFwhSVVmGGwFS',\n 'CnCthFVSGSGtVS',\n 'snHsssBBcZBMsDdZ',\n 'bbGFbwZSsSSZrfFFrGbGlsb',\n 'SfsTSnPZZrZfrZ',\n 'PWtHHtLdMtH',\n 'DMRZMDRBHHJHRFh',\n 'RHMrhmBvJBSBBM',\n 'tqLbwqZggNwgLbwdVq',\n 'wRfpbcpbsgsVscRpwbwws',\n 'bsbssNQsQN',\n 'HWDHjWlGhFDqCl',\n 'fzSSTTnfFnfzFpVFjfSVFgS',\n 'nzNHVTZZV',\n 'DQDhPldhGdmmPRQhhRBlPM',\n 'bRNRscBNwCc',\n 'HgQQNwNsHHCQCwNTTzRcN',\n 'pztlPtSllLVphttGZ',\n 'MnDFmdmDDLbCnLn',\n 'PFrTrTbrMMTTDMdLFCrFdPP',\n 'hwqwVQZWhggwhw',\n 'zpBlpllCBlhSLHSStH',\n 'CzQShHhzhhm',\n 'NzNMfGNNGjFRsjNDbfVzDs',\n 'FRdQpzLTzBL',\n 'pBdRvvdpmHRQvBdBqvdzBB',\n 'lcGhGtjnWcJPncjWL',\n 'NgjgfQVNmjj',\n 'fBffBgrFQVZgzvgBfvrvvmr',\n 'lsDGCTWWDsDRwWWWTwS',\n 'bwhDcDcj',\n 'cQQJTJhcnjTQHcZlwlQHnwj',\n 'WdBFzSVR',\n 'DLfTDLLLWvWNDGDpWD',\n 'TdpSgvQDSpTS',\n 'wsjZwRwMJlshJJJZ',\n 'fNhbccfFhffNc',\n 'FGlfFSfNSFHGmFGNFmnPlmFS',\n 'QgQdbgCZLCsCQtbd',\n 'pZbGlbGlfGpbfGGWpf',\n 'NvCGpbGfDnfhZpNGGZGZbG',\n 'vFVHjMLFHQMgsSLHvs',\n 'dNzCzCWcWZsZdsZs',\n 'ChpRRhcdzcNzhzChNdW',\n 'lBMDtjbllggBn',\n 'tcRWJttcmGRWLGQQLJRrqRL',\n 'tLcsmLLqWWtttlsmGGcmm',\n 'gTBTfNZH',\n 'ngwgDCgrpMpgCngrMCfn',\n 'DrfNMbnpngVbpf',\n 'dmBFWFtWzqdWWQlFzqBFWt',\n 'NNzTvfTQqcqNNTqTqPQvl',\n 'NgvmfTzcfq',\n 'BbpgtRZSHbddZHBDDb',\n 'ghSfgHTMTgRMR',\n 'fffTRSMnffjHTgj',\n 'pWPwFGwjLLp',\n 'JjHJvddLTHrLHJJjbdHvrrN',\n 'zjnvNznnbgH',\n 'QZQqTTZllsT',\n 'JjrjFpCCcBrSCwrrjwww',\n 'wJLLsNBrNcBS',\n 'bZtmVvmTQvQdTtbbDbTvv',\n 'nVnPVfGPpJVJWWmwJPG',\n 'GGnwmGmnmVPWwmVT',\n 'ZtDgMDBCvQQbhDBCbFBCFCCF',\n 'JzSSJmzJfN',\n 'mFBGzCFtPSMmSGCtPPF',\n 'DWghTwZWcccFdRVpc',\n 'hZSfngpfpd',\n 'pwQgpfSQgghZgvgf',\n 'DCCpWmbtC',\n 'bQGblWRgGZmbRWdW',\n 'RBvRGvgQmvmlWtlR',\n 'BLccMpFhshnSSsMz',\n 'pZndwsvwHHswvnvnnZslG',\n 'ZvncvcGvWrnZsG',\n 'VLqMMJQjVJJCLjFjjqjJq',\n 'GGnjNqFbFP',\n 'dLdfPdNGnhGhdPNnNnrN',\n 'VMMVMQMDJgVqqMgcJlVDl',\n 'FWwZNbRcbmZWQbRQZWZcQWm',\n 'pRmpZFZNbQWjj',\n 'VqdMCDCJnqd',\n 'tMRRWbvMBfwBB',\n 'btQBWvmQBBW',\n 'TphlHTCGrT',\n 'GnjGSfwzNfPzfNNGzSSw',\n 'PwpJpSzjwwfFjfjJ',\n 'mLgTbVgTmlrbgq',\n 'QQjdvbrb',\n 'ggLNbNvggtCgNrLQLbfvbfg',\n 'njhjphJPPpPwnsJRwPMM',\n 'BHgqzNNllHRlRllNdBRJl',\n 'ldBJPsRMMdPHsRdJHRMMBP',\n 'ftFFCvbfTTqTCTQF',\n 'shPggBNN',\n 'zLfgsPzqgrsTPLshWfP',\n 'VZHpCpHVdvpMHZZMHZJvd',\n 'wcMBbnnbbtBbDStw',\n 'btHSnSSwQsDBSH',\n 'CzhNGzzGZdhqrdmqrq',\n 'RsWVfsNwZ',\n 'rwwrVtfqtqZtsvwfR',\n 'gDTMgdSGbDgGHbSp',\n 'LrsgmsmrbctsLcLmscDggDsL',\n 'rssbtqmmtbcMcNrDrrtD',\n 'ChNVZjZZwB',\n 'MNRWRGWqQWtRNWGlQW',\n 'GnRWGWrNRQNNWGtNGqB',\n 'hVwLjfVTPZLfwLgjThLZwhVh',\n 'qWbqqcpWBhpmW',\n 'tQpmmpmbbL',\n 'fNjDRgSjRzgRjZjN',\n 'QdrMndMTWdPnTMJ',\n 'JzWTnzQJpzQGnGWQMWnnTGBd',\n 'VRhRCqLqCfrVrrfg',\n 'bwbnjHLVmVbW',\n 'VMjgVbqjVmngnVbr',\n 'zSWQFCWWzChPzQhS',\n 'cQccCjjTC',\n 'NjCCPNbT',\n 'LbLvtndJhs',\n 'cFgBFRsBFcdglRsfsdgJBNN',\n 'JwWRcWsNlgBcBlfWBRfl',\n 'nzbhbZbrGMmHzbMHHhh',\n 'HgLjPLFLfcfZZJB',\n 'TggZPPTTJLZPjPzJ',\n 'CmdqhsMtrsVnCrtnwdnCt',\n 'VZmmFqVjqjVwVjjc',\n 'jqBjcwwwGgBHGwqB',\n 'WfWPJdRCWspPWSSRsWSnJp',\n 'VlPNvRdvPPv',\n 'lQRJJldVRPBsDQvvV',\n 'SFGsGSCLc',\n 'qvVqzzZZprBFbzVdvVnqnBbd',\n 'nRZVrVvFr',\n 'ncnjWDhDMDhP',\n 'DMTTWDMwwcW',\n 'HDvssMTDZDwcHhMsHsMHS',\n 'glqntnbtgNBZtFqtt',\n 'rqHfgMRl',\n 'GMBGMFMg',\n 'wczzcPvsVvVW',\n 'cHwFFVHhHwbHsVrwQhVhF',\n 'QQRHVwFRJrvJsFVQs',\n 'zWtSnMZBMDGm',\n 'zwqjnnjLnwm',\n 'zwngLMLwMRCmgmLMmsww',\n 'crllrQJZNlBZlrNZB',\n 'bmFPfQSFmfSMCmCfSmSSR',\n 'CMbCwcfmRFmRMbm',\n 'pGrGNpvDpddvprNGrlTJ']"
     },
     "execution_count": 293,
     "metadata": {},
     "output_type": "execute_result"
    }
   ],
   "source": [
    "secondSection"
   ],
   "metadata": {
    "collapsed": false,
    "pycharm": {
     "name": "#%%\n"
    }
   }
  },
  {
   "cell_type": "code",
   "execution_count": 294,
   "outputs": [],
   "source": [
    "#compare first section to second section and get the match characters in a list\n",
    "match = []\n",
    "for i in range(len(firstSection)):\n",
    "    match.append([j for j in firstSection[i] if j in secondSection[i]])"
   ],
   "metadata": {
    "collapsed": false,
    "pycharm": {
     "name": "#%%\n"
    }
   }
  },
  {
   "cell_type": "code",
   "execution_count": 295,
   "outputs": [
    {
     "data": {
      "text/plain": "[['d'],\n ['Z'],\n ['P', 'P'],\n ['N'],\n ['q'],\n ['W'],\n ['d', 'd', 'd'],\n ['S'],\n ['P'],\n ['m'],\n ['t', 't'],\n ['T', 'T', 'T'],\n ['B'],\n ['q'],\n ['G', 'G'],\n ['P'],\n ['G'],\n ['g'],\n ['s'],\n ['z'],\n ['C'],\n ['p'],\n ['N', 'N'],\n ['H', 'H'],\n ['w'],\n ['H', 'H', 'H'],\n ['Z'],\n ['D'],\n ['Q'],\n ['C'],\n ['f'],\n ['N', 'N'],\n ['l'],\n ['D', 'D'],\n ['v'],\n ['T'],\n ['Q'],\n ['s'],\n ['v'],\n ['W'],\n ['C'],\n ['d'],\n ['j', 'j'],\n ['V'],\n ['m'],\n ['B'],\n ['R', 'R'],\n ['b'],\n ['C'],\n ['l'],\n ['j'],\n ['C'],\n ['m'],\n ['L'],\n ['c'],\n ['T'],\n ['V'],\n ['G'],\n ['D'],\n ['s'],\n ['N'],\n ['Z'],\n ['s'],\n ['R'],\n ['G'],\n ['B'],\n ['b', 'b'],\n ['r'],\n ['D'],\n ['r'],\n ['q'],\n ['d'],\n ['H'],\n ['L'],\n ['b'],\n ['p'],\n ['m'],\n ['h', 'h', 'h'],\n ['w'],\n ['S'],\n ['h'],\n ['c', 'c', 'c'],\n ['T'],\n ['L', 'L', 'L'],\n ['B'],\n ['N'],\n ['V'],\n ['B'],\n ['S'],\n ['q', 'q'],\n ['R'],\n ['h'],\n ['M'],\n ['p'],\n ['L'],\n ['R', 'R'],\n ['S', 'S'],\n ['V', 'V'],\n ['l'],\n ['d'],\n ['N', 'N'],\n ['P'],\n ['g'],\n ['Q', 'Q', 'Q'],\n ['f'],\n ['g'],\n ['f'],\n ['v'],\n ['H'],\n ['p', 'p'],\n ['R'],\n ['L'],\n ['s'],\n ['m'],\n ['P', 'P'],\n ['H'],\n ['f'],\n ['B'],\n ['C'],\n ['p'],\n ['H'],\n ['r'],\n ['w'],\n ['m'],\n ['G', 'G'],\n ['P'],\n ['r'],\n ['v', 'v'],\n ['b'],\n ['N'],\n ['R', 'R'],\n ['C'],\n ['B'],\n ['C'],\n ['f'],\n ['C'],\n ['R'],\n ['L'],\n ['s', 's'],\n ['P'],\n ['S'],\n ['z', 'z'],\n ['N'],\n ['H'],\n ['r'],\n ['f'],\n ['C'],\n ['m'],\n ['C', 'C'],\n ['Z'],\n ['G'],\n ['n'],\n ['W'],\n ['F'],\n ['r'],\n ['t', 't'],\n ['g', 'g'],\n ['Q'],\n ['H'],\n ['j'],\n ['H', 'H'],\n ['G'],\n ['b', 'b'],\n ['g', 'g'],\n ['Z', 'Z', 'Z'],\n ['m'],\n ['P', 'P', 'P'],\n ['q'],\n ['t'],\n ['m'],\n ['f'],\n ['T'],\n ['q', 'q'],\n ['J', 'J'],\n ['j'],\n ['z'],\n ['S'],\n ['D', 'D', 'D'],\n ['H'],\n ['F'],\n ['G'],\n ['Q'],\n ['h', 'h', 'h'],\n ['h'],\n ['n'],\n ['Z'],\n ['W', 'W'],\n ['C'],\n ['M'],\n ['Z'],\n ['R', 'R'],\n ['n', 'n'],\n ['r', 'r', 'r'],\n ['l', 'l'],\n ['Z'],\n ['w'],\n ['V'],\n ['Q'],\n ['Q'],\n ['m'],\n ['t'],\n ['h'],\n ['n'],\n ['G'],\n ['L'],\n ['g', 'g'],\n ['s'],\n ['j'],\n ['N'],\n ['Z'],\n ['J', 'J'],\n ['T'],\n ['g', 'g'],\n ['J'],\n ['B'],\n ['D'],\n ['n'],\n ['v'],\n ['C'],\n ['Z'],\n ['v'],\n ['z'],\n ['p', 'p'],\n ['W'],\n ['C'],\n ['j'],\n ['h'],\n ['c'],\n ['w'],\n ['j'],\n ['n'],\n ['R', 'R'],\n ['Q'],\n ['H'],\n ['G', 'G'],\n ['J'],\n ['b', 'b'],\n ['d'],\n ['f'],\n ['s', 's'],\n ['g'],\n ['P'],\n ['C'],\n ['B'],\n ['W'],\n ['J'],\n ['M'],\n ['s', 's'],\n ['d'],\n ['W'],\n ['v'],\n ['M'],\n ['g'],\n ['q'],\n ['C'],\n ['M'],\n ['B', 'B'],\n ['Z'],\n ['c'],\n ['Q'],\n ['Z', 'Z'],\n ['P'],\n ['p', 'p'],\n ['f', 'f'],\n ['H'],\n ['g', 'g'],\n ['F'],\n ['Q'],\n ['N', 'N'],\n ['L', 'L'],\n ['d'],\n ['W'],\n ['n'],\n ['c'],\n ['z'],\n ['n'],\n ['Z'],\n ['G'],\n ['P', 'P', 'P'],\n ['N', 'N'],\n ['D'],\n ['G'],\n ['d', 'd'],\n ['R'],\n ['P', 'P', 'P'],\n ['W', 'W'],\n ['S'],\n ['N', 'N'],\n ['l'],\n ['B'],\n ['w'],\n ['c'],\n ['J'],\n ['B'],\n ['j'],\n ['M'],\n ['r', 'r', 'r'],\n ['P', 'P', 'P'],\n ['w'],\n ['J', 'J']]"
     },
     "execution_count": 295,
     "metadata": {},
     "output_type": "execute_result"
    }
   ],
   "source": [
    "match"
   ],
   "metadata": {
    "collapsed": false,
    "pycharm": {
     "name": "#%%\n"
    }
   }
  },
  {
   "cell_type": "code",
   "execution_count": 296,
   "outputs": [],
   "source": [
    "# delete duplicates in the list match\n",
    "for i in range(len(match)):\n",
    "    match[i] = list(dict.fromkeys(match[i]))"
   ],
   "metadata": {
    "collapsed": false,
    "pycharm": {
     "name": "#%%\n"
    }
   }
  },
  {
   "cell_type": "code",
   "execution_count": 297,
   "outputs": [
    {
     "data": {
      "text/plain": "[['d'],\n ['Z'],\n ['P'],\n ['N'],\n ['q'],\n ['W'],\n ['d'],\n ['S'],\n ['P'],\n ['m'],\n ['t'],\n ['T'],\n ['B'],\n ['q'],\n ['G'],\n ['P'],\n ['G'],\n ['g'],\n ['s'],\n ['z'],\n ['C'],\n ['p'],\n ['N'],\n ['H'],\n ['w'],\n ['H'],\n ['Z'],\n ['D'],\n ['Q'],\n ['C'],\n ['f'],\n ['N'],\n ['l'],\n ['D'],\n ['v'],\n ['T'],\n ['Q'],\n ['s'],\n ['v'],\n ['W'],\n ['C'],\n ['d'],\n ['j'],\n ['V'],\n ['m'],\n ['B'],\n ['R'],\n ['b'],\n ['C'],\n ['l'],\n ['j'],\n ['C'],\n ['m'],\n ['L'],\n ['c'],\n ['T'],\n ['V'],\n ['G'],\n ['D'],\n ['s'],\n ['N'],\n ['Z'],\n ['s'],\n ['R'],\n ['G'],\n ['B'],\n ['b'],\n ['r'],\n ['D'],\n ['r'],\n ['q'],\n ['d'],\n ['H'],\n ['L'],\n ['b'],\n ['p'],\n ['m'],\n ['h'],\n ['w'],\n ['S'],\n ['h'],\n ['c'],\n ['T'],\n ['L'],\n ['B'],\n ['N'],\n ['V'],\n ['B'],\n ['S'],\n ['q'],\n ['R'],\n ['h'],\n ['M'],\n ['p'],\n ['L'],\n ['R'],\n ['S'],\n ['V'],\n ['l'],\n ['d'],\n ['N'],\n ['P'],\n ['g'],\n ['Q'],\n ['f'],\n ['g'],\n ['f'],\n ['v'],\n ['H'],\n ['p'],\n ['R'],\n ['L'],\n ['s'],\n ['m'],\n ['P'],\n ['H'],\n ['f'],\n ['B'],\n ['C'],\n ['p'],\n ['H'],\n ['r'],\n ['w'],\n ['m'],\n ['G'],\n ['P'],\n ['r'],\n ['v'],\n ['b'],\n ['N'],\n ['R'],\n ['C'],\n ['B'],\n ['C'],\n ['f'],\n ['C'],\n ['R'],\n ['L'],\n ['s'],\n ['P'],\n ['S'],\n ['z'],\n ['N'],\n ['H'],\n ['r'],\n ['f'],\n ['C'],\n ['m'],\n ['C'],\n ['Z'],\n ['G'],\n ['n'],\n ['W'],\n ['F'],\n ['r'],\n ['t'],\n ['g'],\n ['Q'],\n ['H'],\n ['j'],\n ['H'],\n ['G'],\n ['b'],\n ['g'],\n ['Z'],\n ['m'],\n ['P'],\n ['q'],\n ['t'],\n ['m'],\n ['f'],\n ['T'],\n ['q'],\n ['J'],\n ['j'],\n ['z'],\n ['S'],\n ['D'],\n ['H'],\n ['F'],\n ['G'],\n ['Q'],\n ['h'],\n ['h'],\n ['n'],\n ['Z'],\n ['W'],\n ['C'],\n ['M'],\n ['Z'],\n ['R'],\n ['n'],\n ['r'],\n ['l'],\n ['Z'],\n ['w'],\n ['V'],\n ['Q'],\n ['Q'],\n ['m'],\n ['t'],\n ['h'],\n ['n'],\n ['G'],\n ['L'],\n ['g'],\n ['s'],\n ['j'],\n ['N'],\n ['Z'],\n ['J'],\n ['T'],\n ['g'],\n ['J'],\n ['B'],\n ['D'],\n ['n'],\n ['v'],\n ['C'],\n ['Z'],\n ['v'],\n ['z'],\n ['p'],\n ['W'],\n ['C'],\n ['j'],\n ['h'],\n ['c'],\n ['w'],\n ['j'],\n ['n'],\n ['R'],\n ['Q'],\n ['H'],\n ['G'],\n ['J'],\n ['b'],\n ['d'],\n ['f'],\n ['s'],\n ['g'],\n ['P'],\n ['C'],\n ['B'],\n ['W'],\n ['J'],\n ['M'],\n ['s'],\n ['d'],\n ['W'],\n ['v'],\n ['M'],\n ['g'],\n ['q'],\n ['C'],\n ['M'],\n ['B'],\n ['Z'],\n ['c'],\n ['Q'],\n ['Z'],\n ['P'],\n ['p'],\n ['f'],\n ['H'],\n ['g'],\n ['F'],\n ['Q'],\n ['N'],\n ['L'],\n ['d'],\n ['W'],\n ['n'],\n ['c'],\n ['z'],\n ['n'],\n ['Z'],\n ['G'],\n ['P'],\n ['N'],\n ['D'],\n ['G'],\n ['d'],\n ['R'],\n ['P'],\n ['W'],\n ['S'],\n ['N'],\n ['l'],\n ['B'],\n ['w'],\n ['c'],\n ['J'],\n ['B'],\n ['j'],\n ['M'],\n ['r'],\n ['P'],\n ['w'],\n ['J']]"
     },
     "execution_count": 297,
     "metadata": {},
     "output_type": "execute_result"
    }
   ],
   "source": [
    "match"
   ],
   "metadata": {
    "collapsed": false,
    "pycharm": {
     "name": "#%%\n"
    }
   }
  },
  {
   "cell_type": "code",
   "execution_count": 298,
   "outputs": [],
   "source": [
    "#items in match have priority\n",
    "#Lowercase item types a through z have priorities 1 through 26.\n",
    "#Uppercase item types A through Z have priorities 27 through 52.\n",
    "#make a dictionary with the priorities\n",
    "priority = {}\n",
    "for i in range(26):\n",
    "    priority[chr(i+97)] = i+1\n",
    "for i in range(26):\n",
    "    priority[chr(i+65)] = i+27\n",
    "\n",
    "\n",
    "\n",
    "\n"
   ],
   "metadata": {
    "collapsed": false,
    "pycharm": {
     "name": "#%%\n"
    }
   }
  },
  {
   "cell_type": "code",
   "execution_count": 299,
   "outputs": [],
   "source": [
    "sumOfPriority = []\n",
    "for i in match:\n",
    "    for j in i:\n",
    "        sumOfPriority.append(priority[j])"
   ],
   "metadata": {
    "collapsed": false,
    "pycharm": {
     "name": "#%%\n"
    }
   }
  },
  {
   "cell_type": "code",
   "execution_count": 300,
   "outputs": [
    {
     "data": {
      "text/plain": "[4,\n 52,\n 42,\n 40,\n 17,\n 49,\n 4,\n 45,\n 42,\n 13,\n 20,\n 46,\n 28,\n 17,\n 33,\n 42,\n 33,\n 7,\n 19,\n 26,\n 29,\n 16,\n 40,\n 34,\n 23,\n 34,\n 52,\n 30,\n 43,\n 29,\n 6,\n 40,\n 12,\n 30,\n 22,\n 46,\n 43,\n 19,\n 22,\n 49,\n 29,\n 4,\n 10,\n 48,\n 13,\n 28,\n 44,\n 2,\n 29,\n 12,\n 10,\n 29,\n 13,\n 38,\n 3,\n 46,\n 48,\n 33,\n 30,\n 19,\n 40,\n 52,\n 19,\n 44,\n 33,\n 28,\n 2,\n 18,\n 30,\n 18,\n 17,\n 4,\n 34,\n 38,\n 2,\n 16,\n 13,\n 8,\n 23,\n 45,\n 8,\n 3,\n 46,\n 38,\n 28,\n 40,\n 48,\n 28,\n 45,\n 17,\n 44,\n 8,\n 39,\n 16,\n 38,\n 44,\n 45,\n 48,\n 12,\n 4,\n 40,\n 42,\n 7,\n 43,\n 6,\n 7,\n 6,\n 22,\n 34,\n 16,\n 44,\n 38,\n 19,\n 13,\n 42,\n 34,\n 6,\n 28,\n 29,\n 16,\n 34,\n 18,\n 23,\n 13,\n 33,\n 42,\n 18,\n 22,\n 2,\n 40,\n 44,\n 29,\n 28,\n 29,\n 6,\n 29,\n 44,\n 38,\n 19,\n 42,\n 45,\n 26,\n 40,\n 34,\n 18,\n 6,\n 29,\n 13,\n 29,\n 52,\n 33,\n 14,\n 49,\n 32,\n 18,\n 20,\n 7,\n 43,\n 34,\n 10,\n 34,\n 33,\n 2,\n 7,\n 52,\n 13,\n 42,\n 17,\n 20,\n 13,\n 6,\n 46,\n 17,\n 36,\n 10,\n 26,\n 45,\n 30,\n 34,\n 32,\n 33,\n 43,\n 8,\n 8,\n 14,\n 52,\n 49,\n 29,\n 39,\n 52,\n 44,\n 14,\n 18,\n 12,\n 52,\n 23,\n 48,\n 43,\n 43,\n 13,\n 20,\n 8,\n 14,\n 33,\n 38,\n 7,\n 19,\n 10,\n 40,\n 52,\n 36,\n 46,\n 7,\n 36,\n 28,\n 30,\n 14,\n 22,\n 29,\n 52,\n 22,\n 26,\n 16,\n 49,\n 29,\n 10,\n 8,\n 3,\n 23,\n 10,\n 14,\n 44,\n 43,\n 34,\n 33,\n 36,\n 2,\n 4,\n 6,\n 19,\n 7,\n 42,\n 29,\n 28,\n 49,\n 36,\n 39,\n 19,\n 4,\n 49,\n 22,\n 39,\n 7,\n 17,\n 29,\n 39,\n 28,\n 52,\n 3,\n 43,\n 52,\n 42,\n 16,\n 6,\n 34,\n 7,\n 32,\n 43,\n 40,\n 38,\n 4,\n 49,\n 14,\n 3,\n 26,\n 14,\n 52,\n 33,\n 42,\n 40,\n 30,\n 33,\n 4,\n 44,\n 42,\n 49,\n 45,\n 40,\n 12,\n 28,\n 23,\n 3,\n 36,\n 28,\n 10,\n 39,\n 18,\n 42,\n 23,\n 36]"
     },
     "execution_count": 300,
     "metadata": {},
     "output_type": "execute_result"
    }
   ],
   "source": [
    "sumOfPriority"
   ],
   "metadata": {
    "collapsed": false,
    "pycharm": {
     "name": "#%%\n"
    }
   }
  },
  {
   "cell_type": "code",
   "execution_count": 301,
   "outputs": [],
   "source": [
    "total = 0\n",
    "for i in sumOfPriority:\n",
    "    total += i"
   ],
   "metadata": {
    "collapsed": false,
    "pycharm": {
     "name": "#%%\n"
    }
   }
  },
  {
   "cell_type": "code",
   "execution_count": 302,
   "outputs": [
    {
     "data": {
      "text/plain": "8243"
     },
     "execution_count": 302,
     "metadata": {},
     "output_type": "execute_result"
    }
   ],
   "source": [
    "total"
   ],
   "metadata": {
    "collapsed": false,
    "pycharm": {
     "name": "#%%\n"
    }
   }
  },
  {
   "cell_type": "code",
   "execution_count": 303,
   "outputs": [
    {
     "data": {
      "text/plain": "['FqdWDFppHWhmwwzdjvjTRTznjdMv',\n 'ZBJrDVfQcfSRMLjZnjjM',\n 'cBffPfbrbQcgQJggfVQJBPbCwlPtWFDWHFHhpmmGlGmlqmDG',\n 'PNbMLgmPgRDgRtMPDdmdbmdmQrTBVCZnVnpCnNHHVZBNVZHc',\n 'ljvvqhlvshhnrcpBZqpTcr',\n 'zGhWzFTJvsFttddWbMRdmP',\n 'hhGdDhfdDhmdnHwtzzRtdzbzQQQg',\n 'WTTZJLsvLRJCcWJWScWWLtzjwBzBttbBzSwVQjQBtt',\n 'vLJcLLTRsvsTZPqHGhFHGhhPhfqD',\n 'dJszLvzvCZZsJmszCrrdFmpppMpDMQPMgmDcDgSS',\n 'nRjRbnnjlNhblnjtVtQlWttMFPfMfPgDMpBgSBPgBS',\n 'GWVQTVTnTNhjblQNRsdJLLdTCdzdZLrdrJ',\n 'RnLJBfmJfmNBHlQvvbdQ',\n 'grhgrtqgjJhhggNHqvwWqvbNlbHw',\n 'GVTTsFFjJjVVFVGCFTJDDjhFcZmRMZfnZcncSpMSGcRPZpLp',\n 'bwSNRNSRzSWnPnJRldMBMQmMlsCcPPCP',\n 'FGpDqTTVFFprpjLVQMMGtMclcmHGtBdc',\n 'TjhhgTLpVZhpLDZqrTqZVpBSwJwzNnWNWJvzzNSggwwN',\n 'PHTMsmwrJMwLJvJddvdHwvcWnnWfccqGnhhfGcDqsnGc',\n 'tZVlzQZblBgcSqqRhRmzqf',\n 'CmlgmZlQtFtZNlVZdHLMrMvvCrrvvTTC',\n 'PrDGBBddprmzddrSqccRgSTpqbsMRR',\n 'hvLtfFNvvZNfGGfRgbqsRNlTSSgsbM',\n 'QQQjZHHQjvththFffCHPPzmGrmDzDWrWBw',\n 'GrjGrpjjCsnwhsGGPwlPTPLPVttPqLVl',\n 'HzSHHhczRlLTHqqq',\n 'DbhvFSSzQcZbcFbcQjrJrMJmmZnGJmJnjn',\n 'mvTDsJLwzlWNDDnZngZNdd',\n 'BVtPqFMqtvQFqPqjFBMVtRZGNGhfNcfQdpfgnQgNcNgp',\n 'HBHtPbHCLCzsLJvT',\n 'nVHVFfggbQVmFFfhLpBpBTrfLBCB',\n 'cjjRwJdqtwwwNNjcwRMwnLNTpNsGCnLsLGhBhpNn',\n 'tJqStcRMMMjPwlnvzgQWzmHzlmQl',\n 'nNSRcDHRmHhhDZZZdBDfWJdfrJ',\n 'LGrGVtjCPCbbQQQQLvQpbVQZzsqsBMdBqMvZMMJZqJvdBW',\n 'GCPLlLPPPbTpbCbpLPpVlmrmmrHhHcHnHrHHgTFFnm',\n 'rQbnBrDTQcdpHttt',\n 'qNsNpfjLpNLRNqLMtdVsddcmVzdzVh',\n 'WJfLCfvpWpNLbwwwBwbZFvlZ',\n 'ZslGPhBWBJbNjmbTmSWN',\n 'qtDCZcfZtDjbjCQvmmSj',\n 'ttpRzqtqRLDzpRtDdtPlhhZZGBHGPsGZPhwd',\n 'WjtcNnMtztGFrsNjcgRHvdwHhhjRwlhwlg',\n 'pPSpPBPVqJqBCCPvZdHlVGddwdhvgH',\n 'qpDBpBqPTDLqGLmpTPqbDmWMNrFrrFQnFMNnMNQtMm',\n 'dNwfsjFLQLFNBhTCTPPTBJhhTP',\n 'VmVMgqgRVHtztmgqgzgqRzgMPWCRWTpPCCPWPThDdZPCRZJp',\n 'VMqtMgGHmgVMvmqMMtGMSmbslnQFcsndfjNNsnfscnbddF',\n 'qbWcqrFNCJGSChvLGv',\n 'MnslRSpSVsGgGhDDwLvl',\n 'RjMtfnpmmmjSWSbjrNPN',\n 'rsCsqTVgfCnQFdCznQ',\n 'ZRsBvMvmZMGQQmFnDmQzzQ',\n 'MlGLlBjRGjjWWGRGMlNrLLrssTPNfLcTgrVr',\n 'vpSBBcJnWnSmcqmcChdcgf',\n 'NRNPFDwwDbThqTJffZQHhd',\n 'DzPDNVNbLwPzMLRbNMDjBlvpWjrvrVJjjSsBjr',\n 'dndGpnWdVnBPFFHTBgGH',\n 'qCcCmjqNNJDtcJQjqJqMCQJcFTBRZRwBZBHDPRHBHZDbgBBR',\n 'szJcCtNQqjqCNjjNhdgWfLLdhVWsSVnr',\n 'NjJLgSLGGCLWvqNqNBvwFb',\n 'htmVmtHnlZmDVhtmhblmDMHddBRvwwZQQqWPFvFwdvRWdR',\n 'HnlnHfDsbSTbJzsz',\n 'JvZfsPsPhRfZZnCdtnmjHVRLCH',\n 'TzcczTtgqpgGSTlHHVHCGjCdHdnQQQ',\n 'wDBDSDlWzwwzDqqMtrMrfsfbNvJNJB',\n 'ThfQTdQzQbgdhdNbJFJSlbBLlmqqHBSHCRHsHm',\n 'rWBWWPcvpGGwjPPpvpPGplRSnLLnCrLRsRlLsLmLmR',\n 'cGWPPMtpZDwpMpJQBQQQDBBVNfdQ',\n 'WcWDRLSzFrRFFccPmnssMrGtmMnnGm',\n 'jvvgCCTvNqTtJqsnqwPBmspZMB',\n 'gbVgbvlChJVbCdbtTgjdLWSHWcHSDcQzFzRzDF',\n 'zTrHgrFWRrWvMpPNBVZZHVfN',\n 'hdnlltGLtGSQPVLSNBQN',\n 'CqGGtGwlhlGdtGmbtjtmmvDRFvVFTTRDRbRgFJRbDr',\n 'DTFpQFrZDFBDFrTNFjSWJsWlWjsRJcslsp',\n 'zzPqvdqNzvqzfzMfzqmCzzfJsclWjSSRWglgjclWSmcjlJ',\n 'hfPGwhhvMGCVCdddhQQZQnNrTDQnFrtn',\n 'DDMFjwVTgVmMWgVpdqtlJnpvHHnslw',\n 'fFfZzLSfzBfZBZtqJJHsnSsldlld',\n 'GLcNhRGLZBhmDWTjDTWF',\n 'FbVcQRVRBFfNFfccVfZcWddnGrrHncWtdHsZ',\n 'hwGwjgTSGrssZHHTdn',\n 'LvPvCJgJLwjlSJmSPLvvgGfFBpBVfLLMBQMRRbzMVb',\n 'rfMCJPBMMCrSCSBGZZqRlRLzqhqh',\n 'LDvdNmbgHjHgnmnvnHjgDjqlZhZzszhqzWsRWRRNcRNZ',\n 'dmbvHDdnjDjVmjTmHjJVrfprPCCVtLSMrSpJ',\n 'fdfTBfNVZffMmdfdhGhcJLJrvnlJvrBJ',\n 'FFWFWTzWSWtFgPHgRPWTzggpJcvvSCGSGJnrvhhrrJhlGlGn',\n 'pztFjzRTqWzgHqHWtPtPFgmsNfqbDdwDNVwbmfwbdNsb',\n 'zCHvDWwvCwgpNRCWWHttCwvNPVTqrRrVbbsnbqQPbVsbPrqG',\n 'jBBcmZBGmBSSJdmhBVbnnQrVbVqqVPbhbP',\n 'ZfJBmLjfJZMcdZmJffGMtHtwNCvWwwwztMzg',\n 'rgFgllfdpFlTHfTnfnNPNtPBBVtpzmVVPmmP',\n 'bLSSbGhGWSWmLzztcQPCQC',\n 'jvwhhwRwbwshjGhWwsRRTFflFJFzfddFrHzTrJ',\n 'GSwgSdwfvdfvwgGwBLdJbjjpmFjSTRpqHmRrjptrqt',\n 'NDMVMCsWQVCsQFjFTHjVLqjFrp',\n 'PzWDDCNNlCWfbhZZLfBGwl',\n 'clFLFpFJcVmmWWgWWcWTdwZqCZCZqDqDDSwvwrdHCZ',\n 'GGLfGtbfMNbbLGtzjBNnsMjjZCwDvQZHrHQvDHHHHHHrrNHq',\n 'BthbnfPGMstmJgRPpFRTLL',\n 'VRcdVRPTgVTLVMwmggJBwblJFlmb',\n 'CqDDQsjCCrnnnQQtDcrnGCssJZNvZbvNQmZwmZlbNbwFNwmF',\n 'pstjcqrprsHrfDpnrCnHCzRhSMhMMMRVPLMhddfhzT',\n 'QNDQThccDghdcLLgVsrVLVlMGM',\n 'BbbWpppFFpnfnFbBBPRMTJMRsGlJGlJVLf',\n 'wpnbmvbnSwSnmzHHzwwhQqTctNCcqdNqZvhQjj',\n 'lwCLwLjzLhLHCvwjGCZJbQSHdBQdDdbDtdSQ',\n 'pnzcTVsszpncgFdJpbtDBDttDSJS',\n 'zTPcRrfzgzCCvGRhLLqW',\n 'BgDbztvdDzLZZwMbDDcFHQQJPLWWPJQJHTHF',\n 'jfpNqSrpCqNfNSpjCqSqshNFRQJcJWRRFssgWRHWWFWHQJ',\n 'mrnNNgNfMZwmDtZw',\n 'ZrrFPQsQPRLcvPJvhg',\n 'HpmTjnBmDDDwqtVcHNvJhNVRhgvh',\n 'tTpTGfnttqwnqQJzFdzfSdzSzr',\n 'qVVZqfVNdnBZMNzNnPzfMqbzJvFSjSllvjBwrvrvFrlsrjJs',\n 'LhHtDTmWmWmGDhGLWHghHLCwrwRjjsPJrSjFjFrFClvrww',\n 'mDDgtcLcmtTWTTHhpWLDHhDNMqVnqfdqbZdQpqVbzZVPVb',\n 'WGpVMtGZplgHVWMtZpZFHJjndvFdjddJhnjLHF',\n 'DTrRcSSccfzcCPDCTnvJvjbrrhjNvqjqJL',\n 'zczwPDTmfZZtgLwWlp',\n 'sTtTpvMjpBdmTlhlBTdvsvdncmVcVVVVHzFqVnFfqzHzWV',\n 'GGwQRZNCRgDgsDDbSbSgfGFFrHfVHVVWrHWWcVFF',\n 'RZRPgbNSJDsTsplPLsvd',\n 'GrGNGhpnPFFBfCQCMwrVlwTC',\n 'PPWHmmSvSvdTfJvJVVfCfJ',\n 'RjWDmDdDbjcSHmRRLRRHjdDBsFFbBngBzhqbBhpqBPgFFg',\n 'TfdNjJjmShGcWvQNQqcNFN',\n 'gsRZRMqbDpsHHnZnngMZFPlzQRPWvRtPwtRWzlPv',\n 'brgMMgZCLsDpHGGjfGJVSCqddT',\n 'BdSRjHScGMVjGdcScwLgqQqphNqNDqBBQW',\n 'zzQClvtttrwqrwgCwp',\n 'PQJTzvJJTtJQlvQftmfdmdmGRcSdcMSGdS',\n 'PjPwvwlfGlGCGwppWBsWQVVQnpCQ',\n 'FRSHzMJdrfRnpmpWmp',\n 'TzJTMNNrHLJfTJccvjqwwgGLZLLc',\n 'dCpjsGvcsLvszTrRRlRrDJ',\n 'hPNqqpbhFlrDnPrRnz',\n 'SBbphFNtLvvSfLfc',\n 'zTFnnZzqrjFVnZTrtwMDptbpMwMMBDzb',\n 'JGPCjWGgJjPWGJjNchmbBRpNNDsRsNBbbRBppD',\n 'JWCggWSCmhCmvWHTQrTQfHjdVlQZll',\n 'WWbrmZjbmjpbWSmcWHSbLddwvDggLFDhFrRlFFDw',\n 'qPMVzTPQVfzvVzBQTMtRswwlDdhDghhsfLwdhs',\n 'MMMPQBPJPzCVzvzQVtBJJMzCbmSZNWbSccHHmmZpWSZGZS',\n 'BgmMgjlBMjHPssBnwphtFwhSVVmGGwFS',\n 'rfCqQQrfvCQNRqCnCthFVSGSGtVS',\n 'TrzLNvWfQvrWQZNWsnHsssBBcZBMsDdZ',\n 'CtJCddDHDDPGHCdNVLPBdLDbbGFbwZSsSSZrfFFrGbGlsb',\n 'gvjpnvhRphjmpmSfsTSnPZZrZfrZ',\n 'ghRRRhQgWvmPWtHHtLdMtH',\n 'qNgQgNgNQFVbqVQDMRZMDRBHHJHRFh',\n 'jnTTPzWZCzrWzGRHMrhmBvJBSBBM',\n 'jtCGWnCWPTsTzlctWPtqLbwqZggNwgLbwdVq',\n 'DJgJDgFqCGlhFDGDCWhqCwRfpbcpbsgsVscRpwbwws',\n 'SmLZQmMVvLbsbssNQsQN',\n 'tHZMLZZZMVtmnMHWDHjWlGhFDqCl',\n 'PZRmjlDBWRBWBQMdQQBDPRhfzSSTTnfFnfzFpVFjfSVFgS',\n 'wwHCHLtLwnzNHVTZZV',\n 'rJLtZtLZcCrvJwcbrGLvrcDQDhPldhGdmmPRQhhRBlPM',\n 'zShzVhbqlbpbRNRscBNwCc',\n 'DfmFWnfmnMFDdngdngvJFHgQQNwNsHHCQCwNTTzRcN',\n 'FFFZMWWZZJMmJJMFFpztlPtSllLVphttGZ',\n 'gWhGwmwQGhVwGzBMnDFmdmDDLbCnLn',\n 'tRRHNHHlPHPfPltllNNNRsVPFrTrTbrMMTTDMdLFCrFdPP',\n 'HvRvvHNpNvfqSshwqwVQZWhggwhw',\n 'jDDRDVqNsRMMVFjFbtzpBlpllCBlhSLHSStH',\n 'JJWZZTwWcmZCzQShHhzhhm',\n 'wTrgvTwccvdcfvJvWJrvJTNzNMfGNNGjFRsjNDbfVzDs',\n 'cVWPPThWctcFRdQpzLTzBL',\n 'NNCqwNSrsDqNSSgLgffDCNpBdRvvdpmHRQvBdBqvdzBB',\n 'CgbffsDJsSsNgbgJrlcGhGtjnWcJPncjWL',\n 'RwwTGRjGlwWNgjgfQVNmjj',\n 'HJPdLhLzhbtbdLPLbHHJLdcfBffBgrFQVZgzvgBfvrvvmr',\n 'cmchnhtPqLSJJbdPLntlsDGCTWWDsDRwWWWTwS',\n 'DDDBsPGPbwhDcDcj',\n 'rgfNgCmHMvrrttvtfmNLgrLcQQJTJhcnjTQHcZlwlQHnwj',\n 'wgfLmgFgWdBFzSVR',\n 'RwsbssJjnbJwwsGPPdDLfTDLLLWvWNDGDpWD',\n 'zVtHqzHHVcBQTdpSgvQDSpTS',\n 'HHhFCdrrHchmrhcmwsjZwRwMJlshJJJZ',\n 'BdQgtJMLBqshLfNhbccfFhffNc',\n 'DnVWvvpvWvzrpwRWDbTvbTjTFGlfFSfNSFHGmFGNFmnPlmFS',\n 'wDRDZzVWVjrRVjzrQgQdbgCZLCsCQtbd',\n 'jQSgWjQmFFvHmjHWVVpZbGlbGlfGpbfGGWpf',\n 'zBPtTqzPBcdwrzPJwqCztTNvCGpbGfDnfhZpNGGZGZbG',\n 'MTzPtcrcwzTttdBJwPvFVHjMLFHQMgsSLHvs',\n 'BHtjmmTtmDtHZjMMdNzCzCWcWZsZdsZs',\n 'JRRJVPLwQJrVMPJLVVwChpRRhcdzcNzhzChNdW',\n 'SrFwfGwGSnnGPlBMDtjbllggBn',\n 'rsMDTrgsBNBgMgDBhfhDghrtcRWJttcmGRWLGQQLJRrqRL',\n 'lnVVjvPbwpndvVwlVCjVwtLcsmLLqWWtttlsmGGcmm',\n 'SsjVSCZbgTBTfNZH',\n 'wlddvlldlBzqSmStdqmmngwgDCgrpMpgCngrMCfn',\n 'jVLTHGRHjjvPGcDrfNMbnpngVbpf',\n 'RJRTTRZJLRJQZcGGHLhHvTdmBFWFtWzqdWWQlFzqBFWt',\n 'HDgZHpZSDpBQdRpHHRsDBNNzTvfTQqcqNNTqTqPQvl',\n 'rnMFFMFJwmNgvmfTzcfq',\n 'CWMtjCWMCCLWrWVWJwBbpgtRZSHbddZHBDDb',\n 'hjLWPZJpZptwJghSfgHTMTgRMR',\n 'lCcrblcnlzqDsvbfffTRSMnffjHTgj',\n 'sqscDcblGDDpWPwFGwjLLp',\n 'plQtRqRlGpPPPLZtmtpttRtJjHJvddLTHrLHJJjbdHvrrN',\n 'gcMgTBWBCTczjnvNznnbgH',\n 'FBhSwsWFWDhQZQqTTZllsT',\n 'WsVttWDbvbtRjDVtDbDbJjrjFpCCcBrSCwrrjwww',\n 'nzHqGNMfHqMMwJLLsNBrNcBS',\n 'qgnHflgzHlqlZzhnzssfzbZtmVvmTQvQdTtbbDbTvv',\n 'RtQCBbJDFhJtQtZtCbMnVnPVfGPpJVJWWmwJPG',\n 'NsczRsrdrNrjlcSTGGnwmGmnmVPWwmVT',\n 'SHcljRHzNHHjSHcrgNslcczgZtDgMDBCvQQbhDBCbFBCFCCF',\n 'dRTFRJTRTgJzSSJmzJfN',\n 'jLbQllLvvvrQlLQBrvQmFBGzCFtPSMmSGCtPPF',\n 'QjsvDvqlvrQQvnsLjDWghTwZWcccFdRVpc',\n 'bWnDbMJMFbhZSfngpfpd',\n 'HjcrlvjRjrjlLqTqpwQgpfSQgghZgvgf',\n 'THNTjClLHDCCpWmbtC',\n 'NpBNsnFMLBcPMZccbQGblWRgGZmbRWdW',\n 'CqrJTHCvDfrfwwJHRBvRGvgQmvmlWtlR',\n 'rHzJJJDDwJCqjHTwBLccMpFhshnSSsMz',\n 'bqVqqrDMpLFbLpJJQDMjbpZndwsvwHHswvnvnnZslG',\n 'hgfRghhBWgfzBgZvncvcGvWrnZsG',\n 'fTSSSBtTzhPththRrrCBzVLqMMJQjVJJCLjFjjqjJq',\n 'pQlCJQjVvVGGnjNqFbFP',\n 'wTqtmSmTBhstmstTmWRSdLdfPdNGnhGhdPNnNnrN',\n 'mzTZBwWTcSTsTmZRRmzTsVMMVMQMDJgVqqMgcJlVDl',\n 'vVwCqdCDvMrlDJCqrDMrPdTFWwZNbRcbmZWQbRQZWZcQWm',\n 'fGSfhfjHGBlhSpRmpZFZNbQWjj',\n 'ntGlgSSGgStVqdMCDCJnqd',\n 'TlTRCrhCpmnCRtMRRWbvMBfwBB',\n 'DVdQcsccdczbtQBWvmQBBW',\n 'PgHPNcmcqqTphlHTCGrT',\n 'GVLCBmdLVtlrmqGCqrTCGnjGSfwzNfPzfNNGzSSw',\n 'rMDcWMJsDWRvRcsZPwpJpSzjwwfFjfjJ',\n 'hcsscQQsDcWbHbmLgTbVgTmlrbgq',\n 'VwJndPThQQjdvbrb',\n 'BHlzFFjlZGBBlZBDFSmllfGggLNbNvggtCgNrLQLbfvbfg',\n 'SHSHHlZSGZSDHGzHssGmnjhjphJPPpPwnsJRwPMM',\n 'QFFGpfGtwgtjwvpwpGGjjBHgqzNNllHRlRllNdBRJl',\n 'SWVDWVrDhnWhnqVnWPrhcSldBJPsRMMdPHsRdJHRMMBP',\n 'SWZZcmnnZnSCLZDZftFFCvbfTTqTCTQF',\n 'TvZBTFZpshPggBNN',\n 'bbctWQDjcnwtwDDDllQzLfgsPzqgrsTPLshWfP',\n 'bwRbQRnmDwtbTjmwRJQRQVZHpCpHVdvpMHZZMHZJvd',\n 'CfqzMCGvGqNrCFFNwcMBbnnbbtBbDStw',\n 'sJjsTjvVjLVlLLbtHSnSSwQsDBSH',\n 'dJlvLVgJTRVPWWjjggCzhNGzzGZdhqrdmqrq',\n 'zGSHWGjzpRsWVfsNwZ',\n 'BmPCLzPlJBBvQmLFQrwwrVtfqtqZtsvwfR',\n 'hLLzlmmBPFFLJMlmgDTMgdSGbDgGHbSp',\n 'ppngVjZwNZwwVJjjnnVVJJJpLrsgmsmrbctsLcLmscDggDsL',\n 'vHvRzRPvQPPRqPTlffRTrssbtqmmtbcMcNrDrrtD',\n 'CHWdWzWQzdChNVZjZZwB',\n 'LjVFhwjbFggMdVggTVMNRWRGWqQWtRNWGlQW',\n 'DCzCpJppzJJDScFBzvBGnRWGWrNRQNNWGtNGqB',\n 'vFJSzDSszzzccSZHzDDJmvSJhVwLjfVTPZLfwLgjThLZwhVh',\n 'FMSSNScRlSGzfqWbqqcpWBhpmW',\n 'TrPrnQNnJwtQpmmpmbbL',\n 'vwvCsJZZnnwVnVHsfNjDRgSjRzgRjZjN',\n 'CRhsghlqlvjhPslQdrMndMTWdPnTMJ',\n 'tcDNFDpDSDwDtHrSDwDtFmtpJzWTnzQJpzQGnGWQMWnnTGBd',\n 'ZfFSmSfwcwcScZHtVRhRCqLqCfrVrrfg',\n 'vHPsBzvRvhCzbwbnjHLVmVbW',\n 'ggdlpZNdZdflWTGpVMjgVbqjVmngnVbr',\n 'lNpfllFGpZTtclDZzSWQFCWWzChPzQhS',\n 'ddbJQGsgJcQccCjjTC',\n 'DDflHqNNNjCCPNbT',\n 'LFpLzfzqHzLbLvtndJhs',\n 'mHtbGdwzmtHZrtrHtHGwrmtcFgBFRsBFcdglRsfsdgJBNN',\n 'WvpSVjCCTCSPVDqTVjLqJwWRcWsNlgBcBlfWBRfl',\n 'qDwjvqjVTDDLSPpnjqVnzbhbZbrGMmHzbMHHhh',\n 'cMrrVsdtCdVtwqdHgLjPLFLfcfZZJB',\n 'zGSlGGvpDWWvbSSNTggZPPTTJLZPjPzJ',\n 'bNQDWbjlGSGNnWGblbQDQCmdqhsMtrsVnCrtnwdnCt',\n 'WZSnCCMMdMMMSJMSVZmmFqVjqjVwVjjc',\n 'zvzTlQQQQTNGbmQTjqBjcwwwGgBHGwqB',\n 'mthbtmlPhTrNzNhhPLzlPzWfWPJdRCWspPWSSRsWSnJp',\n 'nmqsjNFqNLcVlPNvRdvPPv',\n 'MrggHrMpbtTpgpDptlQRJJldVRPBsDQvvV',\n 'grgrTzfTGSFGsGSCLc',\n 'hjdjCfQCLdQcWMfDDQhLsLCjqvVqzzZZprBFbzVdvVnqnBbd',\n 'NTglmJGJRnRZVrVvFr',\n 'gPGgPJSTPJtHncnjWDhDMDhP',\n 'ZWWqBqqmgFFDMTTWDMwwcW',\n 'ddGPpJQPprRSCrQzJPJGjHDvssMTDZDwcHhMsHsMHS',\n 'zNRGrCRRCjPpdGQJNglqntnbtgNBZtFqtt',\n 'pslQSspQrqHfgMRl',\n 'tJBTjsTLGMBGMFMg',\n 'tDwnhZdnLdZDwczzcPvsVvVW',\n 'nZnMSDnGtnzmzWZZcMmgMcHwFFVHhHwbHsVrwQhVhF',\n 'dlTqNqfTjdJflCppCQQRHVwFRJrvJsFVQs',\n 'LNTqBLPprpLLzWtSnMZBMDGm',\n 'PBjlPvvcJlJzwqjnnjLnwm',\n 'dMfdpVfVhGVfVpVTtWWbzwngLMLwMRCmgmLMmsww',\n 'SWppdTrprThhrGVztcrllrQJZNlBZlrNZB',\n 'TTrNcjGNWDdDPDpPjDPNrbmFPfQSFmfSMCmCfSmSSR',\n 'sshhqshzBVnzHgwCMbCwcfmRFmRMbm',\n 'gHVVnBzJcBgVhtZZtgJhpGrGNpvDpddvprNGrlTJ']"
     },
     "execution_count": 303,
     "metadata": {},
     "output_type": "execute_result"
    }
   ],
   "source": [
    "with open('day3.txt', 'r') as file:\n",
    "    data = file.read()\n",
    "\n",
    "data = data.split(\"\\n\")\n",
    "data"
   ],
   "metadata": {
    "collapsed": false,
    "pycharm": {
     "name": "#%%\n"
    }
   }
  },
  {
   "cell_type": "code",
   "execution_count": 304,
   "outputs": [],
   "source": [
    "# every three lines are a group\n",
    "# compare the first line to the second line and the third line\n",
    "# save the match character and the group number\n",
    "match = []\n",
    "for i in range(0, len(data), 3):\n",
    "    for j in range(len(data[i])):\n",
    "        if data[i][j] in data[i+1] and data[i][j] in data[i+2]:\n",
    "            match.append([data[i][j], i//3])\n",
    "\n",
    "\n",
    "\n"
   ],
   "metadata": {
    "collapsed": false,
    "pycharm": {
     "name": "#%%\n"
    }
   }
  },
  {
   "cell_type": "code",
   "execution_count": 305,
   "outputs": [
    {
     "data": {
      "text/plain": "[['D', 0],\n ['T', 1],\n ['R', 2],\n ['Q', 3],\n ['J', 4],\n ['J', 4],\n ['B', 5],\n ['m', 6],\n ['G', 7],\n ['h', 8],\n ['v', 9],\n ['n', 10],\n ['r', 11],\n ['p', 12],\n ['Z', 13],\n ['G', 14],\n ['d', 15],\n ['S', 16],\n ['s', 17],\n ['s', 17],\n ['J', 18],\n ['g', 19],\n ['b', 20],\n ['t', 21],\n ['B', 22],\n ['B', 22],\n ['t', 23],\n ['V', 24],\n ['V', 24],\n ['N', 25],\n ['F', 26],\n ['G', 27],\n ['L', 28],\n ['T', 29],\n ['G', 30],\n ['z', 31],\n ['L', 32],\n ['L', 33],\n ['c', 34],\n ['T', 35],\n ['z', 36],\n ['g', 37],\n ['J', 38],\n ['P', 39],\n ['L', 40],\n ['s', 41],\n ['s', 41],\n ['P', 42],\n ['q', 43],\n ['Q', 44],\n ['Q', 44],\n ['f', 45],\n ['p', 46],\n ['j', 47],\n ['v', 48],\n ['n', 49],\n ['P', 50],\n ['P', 50],\n ['Z', 51],\n ['V', 52],\n ['Z', 53],\n ['z', 54],\n ['z', 54],\n ['V', 55],\n ['z', 56],\n ['L', 57],\n ['L', 57],\n ['m', 58],\n ['w', 59],\n ['d', 60],\n ['b', 61],\n ['v', 62],\n ['M', 63],\n ['M', 63],\n ['s', 64],\n ['s', 64],\n ['v', 65],\n ['g', 66],\n ['j', 67],\n ['T', 68],\n ['s', 69],\n ['R', 70],\n ['F', 71],\n ['p', 72],\n ['p', 72],\n ['B', 73],\n ['B', 73],\n ['r', 74],\n ['q', 75],\n ['l', 76],\n ['m', 77],\n ['r', 78],\n ['r', 78],\n ['j', 79],\n ['q', 80],\n ['T', 81],\n ['T', 81],\n ['v', 82],\n ['z', 83],\n ['z', 83],\n ['N', 84],\n ['F', 85],\n ['F', 85],\n ['N', 86],\n ['r', 87],\n ['W', 88],\n ['b', 89],\n ['w', 90],\n ['w', 90],\n ['j', 91],\n ['m', 92],\n ['m', 92],\n ['s', 93],\n ['n', 94],\n ['n', 94],\n ['Z', 95],\n ['s', 96],\n ['s', 96],\n ['r', 97],\n ['z', 98],\n ['c', 99]]"
     },
     "execution_count": 305,
     "metadata": {},
     "output_type": "execute_result"
    }
   ],
   "source": [
    "match"
   ],
   "metadata": {
    "collapsed": false,
    "pycharm": {
     "name": "#%%\n"
    }
   }
  },
  {
   "cell_type": "code",
   "execution_count": 306,
   "outputs": [],
   "source": [
    "# delete duplicates in the list match and get the sum of the priorities\n",
    "sumOfPriority = []\n",
    "for i in match:\n",
    "    if i not in sumOfPriority:\n",
    "        sumOfPriority.append(i)\n",
    "\n"
   ],
   "metadata": {
    "collapsed": false,
    "pycharm": {
     "name": "#%%\n"
    }
   }
  },
  {
   "cell_type": "code",
   "execution_count": 307,
   "outputs": [
    {
     "data": {
      "text/plain": "[['D', 0],\n ['T', 1],\n ['R', 2],\n ['Q', 3],\n ['J', 4],\n ['B', 5],\n ['m', 6],\n ['G', 7],\n ['h', 8],\n ['v', 9],\n ['n', 10],\n ['r', 11],\n ['p', 12],\n ['Z', 13],\n ['G', 14],\n ['d', 15],\n ['S', 16],\n ['s', 17],\n ['J', 18],\n ['g', 19],\n ['b', 20],\n ['t', 21],\n ['B', 22],\n ['t', 23],\n ['V', 24],\n ['N', 25],\n ['F', 26],\n ['G', 27],\n ['L', 28],\n ['T', 29],\n ['G', 30],\n ['z', 31],\n ['L', 32],\n ['L', 33],\n ['c', 34],\n ['T', 35],\n ['z', 36],\n ['g', 37],\n ['J', 38],\n ['P', 39],\n ['L', 40],\n ['s', 41],\n ['P', 42],\n ['q', 43],\n ['Q', 44],\n ['f', 45],\n ['p', 46],\n ['j', 47],\n ['v', 48],\n ['n', 49],\n ['P', 50],\n ['Z', 51],\n ['V', 52],\n ['Z', 53],\n ['z', 54],\n ['V', 55],\n ['z', 56],\n ['L', 57],\n ['m', 58],\n ['w', 59],\n ['d', 60],\n ['b', 61],\n ['v', 62],\n ['M', 63],\n ['s', 64],\n ['v', 65],\n ['g', 66],\n ['j', 67],\n ['T', 68],\n ['s', 69],\n ['R', 70],\n ['F', 71],\n ['p', 72],\n ['B', 73],\n ['r', 74],\n ['q', 75],\n ['l', 76],\n ['m', 77],\n ['r', 78],\n ['j', 79],\n ['q', 80],\n ['T', 81],\n ['v', 82],\n ['z', 83],\n ['N', 84],\n ['F', 85],\n ['N', 86],\n ['r', 87],\n ['W', 88],\n ['b', 89],\n ['w', 90],\n ['j', 91],\n ['m', 92],\n ['s', 93],\n ['n', 94],\n ['Z', 95],\n ['s', 96],\n ['r', 97],\n ['z', 98],\n ['c', 99]]"
     },
     "execution_count": 307,
     "metadata": {},
     "output_type": "execute_result"
    }
   ],
   "source": [
    "sumOfPriority"
   ],
   "metadata": {
    "collapsed": false,
    "pycharm": {
     "name": "#%%\n"
    }
   }
  },
  {
   "cell_type": "code",
   "execution_count": 308,
   "outputs": [],
   "source": [
    "priority = {}\n",
    "for i in range(26):\n",
    "    priority[chr(i+97)] = i+1\n",
    "for i in range(26):\n",
    "    priority[chr(i+65)] = i+27"
   ],
   "metadata": {
    "collapsed": false,
    "pycharm": {
     "name": "#%%\n"
    }
   }
  },
  {
   "cell_type": "code",
   "execution_count": 309,
   "outputs": [
    {
     "data": {
      "text/plain": "2631"
     },
     "execution_count": 309,
     "metadata": {},
     "output_type": "execute_result"
    }
   ],
   "source": [
    "total = 0\n",
    "for i in sumOfPriority:\n",
    "    total += priority[i[0]]\n",
    "\n",
    "total"
   ],
   "metadata": {
    "collapsed": false,
    "pycharm": {
     "name": "#%%\n"
    }
   }
  },
  {
   "cell_type": "code",
   "execution_count": 309,
   "outputs": [],
   "source": [],
   "metadata": {
    "collapsed": false,
    "pycharm": {
     "name": "#%%\n"
    }
   }
  }
 ],
 "metadata": {
  "kernelspec": {
   "display_name": "Python 3",
   "language": "python",
   "name": "python3"
  },
  "language_info": {
   "codemirror_mode": {
    "name": "ipython",
    "version": 2
   },
   "file_extension": ".py",
   "mimetype": "text/x-python",
   "name": "python",
   "nbconvert_exporter": "python",
   "pygments_lexer": "ipython2",
   "version": "2.7.6"
  }
 },
 "nbformat": 4,
 "nbformat_minor": 0
}